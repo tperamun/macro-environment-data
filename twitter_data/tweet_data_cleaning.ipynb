{
 "cells": [
  {
   "cell_type": "code",
   "execution_count": 8,
   "id": "fde46077",
   "metadata": {},
   "outputs": [],
   "source": [
    "import sys, tweepy\n",
    "import os\n",
    "import pickle"
   ]
  },
  {
   "cell_type": "code",
   "execution_count": 48,
   "id": "170ca8d5",
   "metadata": {},
   "outputs": [],
   "source": [
    "def twitter_auth():\n",
    "    try:\n",
    "        consumer_key = os.environ['TWITTER_API_KEY']\n",
    "        consumer_secret = os.environ['TWITTER_API_SECRET']\n",
    "        access_token = os.environ['TWITTER_API_ACCESS_TOKEN']\n",
    "        access_secret=os.environ['TWITTER_API_ACCESS_TOKEN_SECRET']\n",
    "    except KeyError:\n",
    "        sys.stderr.write(\"environment variable not set\\n\")\n",
    "        sys.exit(1)\n",
    "    \n",
    "    auth = tweepy.OAuthHandler(consumer_key, consumer_secret)\n",
    "    auth.set_access_token(access_token, access_secret)\n",
    "    \n",
    "    return auth"
   ]
  },
  {
   "cell_type": "code",
   "execution_count": 49,
   "id": "46f5f0a1",
   "metadata": {},
   "outputs": [],
   "source": [
    "def get_twitter_client():\n",
    "    auth = twitter_auth()\n",
    "    client = tweepy.API(auth, wait_on_rate_limit=True)\n",
    "    return client"
   ]
  },
  {
   "cell_type": "code",
   "execution_count": 50,
   "id": "d84c72f7",
   "metadata": {},
   "outputs": [],
   "source": [
    "def get_user_tweets(client, user, tweet_count=100):\n",
    "    \n",
    "    tweets = []\n",
    "    \n",
    "    for status in tweepy.Cursor(client.home_timeline, screen_name=user).items(tweet_count):\n",
    "        tweets.append(status.text)\n",
    "    \n",
    "    return tweets"
   ]
  },
  {
   "cell_type": "code",
   "execution_count": 19,
   "id": "c34fb12f",
   "metadata": {},
   "outputs": [],
   "source": [
    "def get_users(filename=None):\n",
    "    \n",
    "    user_list = []\n",
    "    \n",
    "    if not filename:\n",
    "        return None\n",
    "    \n",
    "    \n",
    "    with open(filename) as f:\n",
    "        for line in f:\n",
    "            user_list.append(line.strip())\n",
    "    \n",
    "    return user_list"
   ]
  },
  {
   "cell_type": "code",
   "execution_count": 51,
   "id": "2b6ae126",
   "metadata": {},
   "outputs": [
    {
     "name": "stdout",
     "output_type": "stream",
     "text": [
      "['financialjuice', 'zerohedge', 'NorthmanTrader', 'caroljsroth', 'LynAldenContact', 'ReutersBiz']\n"
     ]
    }
   ],
   "source": [
    "users = get_users('twitter_users_list')\n",
    "tweets = []\n",
    "client = get_twitter_client()\n",
    "print(users)\n"
   ]
  },
  {
   "cell_type": "code",
   "execution_count": 52,
   "id": "f7f4a600",
   "metadata": {},
   "outputs": [
    {
     "name": "stderr",
     "output_type": "stream",
     "text": [
      "Unexpected parameter: screen_name\n",
      "Unexpected parameter: screen_name\n",
      "Unexpected parameter: screen_name\n",
      "Unexpected parameter: screen_name\n",
      "Unexpected parameter: screen_name\n",
      "Unexpected parameter: screen_name\n",
      "Unexpected parameter: screen_name\n",
      "Unexpected parameter: screen_name\n",
      "Unexpected parameter: screen_name\n",
      "Unexpected parameter: screen_name\n",
      "Unexpected parameter: screen_name\n",
      "Unexpected parameter: screen_name\n",
      "Unexpected parameter: screen_name\n",
      "Unexpected parameter: screen_name\n",
      "Unexpected parameter: screen_name\n",
      "Unexpected parameter: screen_name\n",
      "Rate limit reached. Sleeping for: 896\n",
      "Unexpected parameter: screen_name\n",
      "Unexpected parameter: screen_name\n",
      "Unexpected parameter: screen_name\n",
      "Unexpected parameter: screen_name\n",
      "Unexpected parameter: screen_name\n",
      "Unexpected parameter: screen_name\n",
      "Unexpected parameter: screen_name\n",
      "Unexpected parameter: screen_name\n",
      "Unexpected parameter: screen_name\n",
      "Unexpected parameter: screen_name\n",
      "Unexpected parameter: screen_name\n",
      "Unexpected parameter: screen_name\n",
      "Unexpected parameter: screen_name\n",
      "Unexpected parameter: screen_name\n",
      "Unexpected parameter: screen_name\n",
      "Rate limit reached. Sleeping for: 896\n",
      "Unexpected parameter: screen_name\n",
      "Unexpected parameter: screen_name\n",
      "Unexpected parameter: screen_name\n",
      "Unexpected parameter: screen_name\n",
      "Unexpected parameter: screen_name\n"
     ]
    }
   ],
   "source": [
    "for user in users:\n",
    "    tweets.append(get_user_tweets(client, user, 100))"
   ]
  },
  {
   "cell_type": "code",
   "execution_count": 90,
   "id": "192eafa4",
   "metadata": {},
   "outputs": [
    {
     "data": {
      "text/plain": [
       "'Factbox: Some of the biggest splits in Corporate America https://t.co/uqK00WkkLl https://t.co/aceaktW6lH'"
      ]
     },
     "execution_count": 90,
     "metadata": {},
     "output_type": "execute_result"
    }
   ],
   "source": [
    "tweets[4][7]"
   ]
  },
  {
   "cell_type": "code",
   "execution_count": null,
   "id": "a6cc39d4",
   "metadata": {},
   "outputs": [],
   "source": []
  },
  {
   "cell_type": "code",
   "execution_count": 86,
   "id": "172e4f7e",
   "metadata": {},
   "outputs": [],
   "source": [
    "# pickle tweets for later use instead of hitting the API all the time\n",
    "\n",
    "for i, u in enumerate(get_users('twitter_users_list')):\n",
    "    with open('tweets/'+ u + '.txt', 'wb') as file:\n",
    "        pickle.dump(tweets[i], file)\n"
   ]
  },
  {
   "cell_type": "code",
   "execution_count": 87,
   "id": "ac17b4a9",
   "metadata": {},
   "outputs": [],
   "source": [
    "# Load pickled files\n",
    "\n",
    "data = {}\n",
    "\n",
    "for i, u in enumerate(users):\n",
    "    with open(\"tweets/\" + u + \".txt\", \"rb\") as file:\n",
    "        data[u] = pickle.load(file)\n",
    "        "
   ]
  },
  {
   "cell_type": "code",
   "execution_count": 88,
   "id": "e1fcaa9f",
   "metadata": {},
   "outputs": [
    {
     "data": {
      "text/plain": [
       "dict_keys(['financialjuice', 'zerohedge', 'NorthmanTrader', 'caroljsroth', 'LynAldenContact', 'ReutersBiz'])"
      ]
     },
     "execution_count": 88,
     "metadata": {},
     "output_type": "execute_result"
    }
   ],
   "source": [
    "data.keys()"
   ]
  },
  {
   "cell_type": "code",
   "execution_count": 95,
   "id": "0749cbee",
   "metadata": {},
   "outputs": [],
   "source": [
    "# data.keys()\n",
    "# print(data['LynAldenContact'])"
   ]
  },
  {
   "cell_type": "code",
   "execution_count": 112,
   "id": "c54d454d",
   "metadata": {},
   "outputs": [
    {
     "data": {
      "text/plain": [
       "100"
      ]
     },
     "execution_count": 112,
     "metadata": {},
     "output_type": "execute_result"
    }
   ],
   "source": [
    "len(data['financialjuice'])\n"
   ]
  },
  {
   "cell_type": "code",
   "execution_count": 44,
   "id": "bb19b788",
   "metadata": {},
   "outputs": [],
   "source": [
    "# Clearn Data"
   ]
  },
  {
   "cell_type": "code",
   "execution_count": 91,
   "id": "9f0945a2",
   "metadata": {},
   "outputs": [],
   "source": [
    "def combine_tweet(list_of_tweets):\n",
    "    # take list of tweets and combine it into one string\n",
    "    combined_tweet = ' '.join(list_of_tweets)\n",
    "    return combined_tweet"
   ]
  },
  {
   "cell_type": "code",
   "execution_count": 113,
   "id": "7ec97903",
   "metadata": {},
   "outputs": [
    {
     "data": {
      "text/plain": [
       "1"
      ]
     },
     "execution_count": 113,
     "metadata": {},
     "output_type": "execute_result"
    }
   ],
   "source": [
    "data_combined = {key: [combine_tweet(value)] for (key, value) in data.items()}\n",
    "len(data_combined['financialjuice'])"
   ]
  },
  {
   "cell_type": "code",
   "execution_count": 94,
   "id": "f4830e5e",
   "metadata": {},
   "outputs": [
    {
     "data": {
      "text/html": [
       "<div>\n",
       "<style scoped>\n",
       "    .dataframe tbody tr th:only-of-type {\n",
       "        vertical-align: middle;\n",
       "    }\n",
       "\n",
       "    .dataframe tbody tr th {\n",
       "        vertical-align: top;\n",
       "    }\n",
       "\n",
       "    .dataframe thead th {\n",
       "        text-align: right;\n",
       "    }\n",
       "</style>\n",
       "<table border=\"1\" class=\"dataframe\">\n",
       "  <thead>\n",
       "    <tr style=\"text-align: right;\">\n",
       "      <th></th>\n",
       "      <th>tweets</th>\n",
       "    </tr>\n",
       "  </thead>\n",
       "  <tbody>\n",
       "    <tr>\n",
       "      <th>LynAldenContact</th>\n",
       "      <td>Crypto mining company Bitfarms has made an about-face on its holding strategy and sold 3,000 Bitcoin for $62 millio… https://t.co/g2JGOtLQin Chevr...</td>\n",
       "    </tr>\n",
       "    <tr>\n",
       "      <th>NorthmanTrader</th>\n",
       "      <td>Elon Musk: “A recession is inevitable at some point. As to whether there is a recession in the near term, that is m… https://t.co/B6bikiD9AY Togo ...</td>\n",
       "    </tr>\n",
       "    <tr>\n",
       "      <th>ReutersBiz</th>\n",
       "      <td>The Best Neck Creams To Fight Sagging Skin, According To Dermatologists https://t.co/30dgs3lCw7 https://t.co/sKRUjUCuJr Apple is about to launch a...</td>\n",
       "    </tr>\n",
       "    <tr>\n",
       "      <th>caroljsroth</th>\n",
       "      <td>Crypto mining company Bitfarms has made an about-face on its holding strategy and sold 3,000 Bitcoin for $62 millio… https://t.co/g2JGOtLQin Chevr...</td>\n",
       "    </tr>\n",
       "    <tr>\n",
       "      <th>financialjuice</th>\n",
       "      <td>Elon Musk: “A recession is inevitable at some point. As to whether there is a recession in the near term, that is m… https://t.co/B6bikiD9AY Togo ...</td>\n",
       "    </tr>\n",
       "    <tr>\n",
       "      <th>zerohedge</th>\n",
       "      <td>Elon Musk: “A recession is inevitable at some point. As to whether there is a recession in the near term, that is m… https://t.co/B6bikiD9AY Togo ...</td>\n",
       "    </tr>\n",
       "  </tbody>\n",
       "</table>\n",
       "</div>"
      ],
      "text/plain": [
       "                                                                                                                                                                tweets\n",
       "LynAldenContact  Crypto mining company Bitfarms has made an about-face on its holding strategy and sold 3,000 Bitcoin for $62 millio… https://t.co/g2JGOtLQin Chevr...\n",
       "NorthmanTrader   Elon Musk: “A recession is inevitable at some point. As to whether there is a recession in the near term, that is m… https://t.co/B6bikiD9AY Togo ...\n",
       "ReutersBiz       The Best Neck Creams To Fight Sagging Skin, According To Dermatologists https://t.co/30dgs3lCw7 https://t.co/sKRUjUCuJr Apple is about to launch a...\n",
       "caroljsroth      Crypto mining company Bitfarms has made an about-face on its holding strategy and sold 3,000 Bitcoin for $62 millio… https://t.co/g2JGOtLQin Chevr...\n",
       "financialjuice   Elon Musk: “A recession is inevitable at some point. As to whether there is a recession in the near term, that is m… https://t.co/B6bikiD9AY Togo ...\n",
       "zerohedge        Elon Musk: “A recession is inevitable at some point. As to whether there is a recession in the near term, that is m… https://t.co/B6bikiD9AY Togo ..."
      ]
     },
     "execution_count": 94,
     "metadata": {},
     "output_type": "execute_result"
    }
   ],
   "source": [
    "import pandas as pd\n",
    "pd.set_option('max_colwidth', 150)\n",
    "data_df = pd.DataFrame.from_dict(data_combined).transpose()\n",
    "data_df.columns = ['tweets']\n",
    "data_df = data_df.sort_index()\n",
    "data_df # raw corpus"
   ]
  },
  {
   "cell_type": "code",
   "execution_count": null,
   "id": "9bc0ab04",
   "metadata": {},
   "outputs": [],
   "source": []
  },
  {
   "cell_type": "code",
   "execution_count": 99,
   "id": "836de858",
   "metadata": {},
   "outputs": [],
   "source": [
    "#Apply a first roud of text cleaning techniques\n",
    "import re\n",
    "import string\n",
    "\n",
    "def clean_text_round1(text):\n",
    "    '''Make text lowercase; remove punctuation'''\n",
    "    text = text.lower()\n",
    "    text = re.sub('\\[.*?\\]','', text)\n",
    "    text = re.sub('[\"%s\"]' % re.escape(string.punctuation), '', text)\n",
    "    text = re.sub('\\w*\\d\\w*', '', text)\n",
    "    text = re.sub(r'http\\S+', '', text)\n",
    "    return text\n",
    "\n",
    "round1 = lambda x: clean_text_round1(x)"
   ]
  },
  {
   "cell_type": "code",
   "execution_count": 100,
   "id": "a13e9cc0",
   "metadata": {},
   "outputs": [
    {
     "data": {
      "text/html": [
       "<div>\n",
       "<style scoped>\n",
       "    .dataframe tbody tr th:only-of-type {\n",
       "        vertical-align: middle;\n",
       "    }\n",
       "\n",
       "    .dataframe tbody tr th {\n",
       "        vertical-align: top;\n",
       "    }\n",
       "\n",
       "    .dataframe thead th {\n",
       "        text-align: right;\n",
       "    }\n",
       "</style>\n",
       "<table border=\"1\" class=\"dataframe\">\n",
       "  <thead>\n",
       "    <tr style=\"text-align: right;\">\n",
       "      <th></th>\n",
       "      <th>tweets</th>\n",
       "    </tr>\n",
       "  </thead>\n",
       "  <tbody>\n",
       "    <tr>\n",
       "      <th>LynAldenContact</th>\n",
       "      <td>crypto mining company bitfarms has made an aboutface on its holding strategy and sold  bitcoin for  millio…  chevron el segundo could shut coker d...</td>\n",
       "    </tr>\n",
       "    <tr>\n",
       "      <th>NorthmanTrader</th>\n",
       "      <td>elon musk “a recession is inevitable at some point as to whether there is a recession in the near term that is m…  togo is taking steps to substit...</td>\n",
       "    </tr>\n",
       "    <tr>\n",
       "      <th>ReutersBiz</th>\n",
       "      <td>the best neck creams to fight sagging skin according to dermatologists   apple is about to launch a new method of proving you aren’t a bot in its ...</td>\n",
       "    </tr>\n",
       "    <tr>\n",
       "      <th>caroljsroth</th>\n",
       "      <td>crypto mining company bitfarms has made an aboutface on its holding strategy and sold  bitcoin for  millio…  chevron el segundo could shut coker d...</td>\n",
       "    </tr>\n",
       "    <tr>\n",
       "      <th>financialjuice</th>\n",
       "      <td>elon musk “a recession is inevitable at some point as to whether there is a recession in the near term that is m…  togo is taking steps to substit...</td>\n",
       "    </tr>\n",
       "    <tr>\n",
       "      <th>zerohedge</th>\n",
       "      <td>elon musk “a recession is inevitable at some point as to whether there is a recession in the near term that is m…  togo is taking steps to substit...</td>\n",
       "    </tr>\n",
       "  </tbody>\n",
       "</table>\n",
       "</div>"
      ],
      "text/plain": [
       "                                                                                                                                                                tweets\n",
       "LynAldenContact  crypto mining company bitfarms has made an aboutface on its holding strategy and sold  bitcoin for  millio…  chevron el segundo could shut coker d...\n",
       "NorthmanTrader   elon musk “a recession is inevitable at some point as to whether there is a recession in the near term that is m…  togo is taking steps to substit...\n",
       "ReutersBiz       the best neck creams to fight sagging skin according to dermatologists   apple is about to launch a new method of proving you aren’t a bot in its ...\n",
       "caroljsroth      crypto mining company bitfarms has made an aboutface on its holding strategy and sold  bitcoin for  millio…  chevron el segundo could shut coker d...\n",
       "financialjuice   elon musk “a recession is inevitable at some point as to whether there is a recession in the near term that is m…  togo is taking steps to substit...\n",
       "zerohedge        elon musk “a recession is inevitable at some point as to whether there is a recession in the near term that is m…  togo is taking steps to substit..."
      ]
     },
     "execution_count": 100,
     "metadata": {},
     "output_type": "execute_result"
    }
   ],
   "source": [
    "data_clean = pd.DataFrame(data_df.tweets.apply(round1))\n",
    "data_clean"
   ]
  },
  {
   "cell_type": "code",
   "execution_count": 101,
   "id": "cd48d605",
   "metadata": {},
   "outputs": [],
   "source": [
    "# Pickle df for later use\n",
    "data_df.to_pickle(\"corpus.pkl\")"
   ]
  },
  {
   "cell_type": "code",
   "execution_count": 114,
   "id": "55de121f",
   "metadata": {},
   "outputs": [
    {
     "data": {
      "text/plain": [
       "pandas.core.series.Series"
      ]
     },
     "execution_count": 114,
     "metadata": {},
     "output_type": "execute_result"
    }
   ],
   "source": [
    "# Create document-term matrix using CountVectorizer\n",
    "type(data_clean.tweets)"
   ]
  },
  {
   "cell_type": "code",
   "execution_count": 104,
   "id": "de7cffc1",
   "metadata": {},
   "outputs": [
    {
     "name": "stderr",
     "output_type": "stream",
     "text": [
      "/Users/timal/opt/anaconda3/lib/python3.9/site-packages/sklearn/utils/deprecation.py:87: FutureWarning: Function get_feature_names is deprecated; get_feature_names is deprecated in 1.0 and will be removed in 1.2. Please use get_feature_names_out instead.\n",
      "  warnings.warn(msg, category=FutureWarning)\n"
     ]
    },
    {
     "data": {
      "text/html": [
       "<div>\n",
       "<style scoped>\n",
       "    .dataframe tbody tr th:only-of-type {\n",
       "        vertical-align: middle;\n",
       "    }\n",
       "\n",
       "    .dataframe tbody tr th {\n",
       "        vertical-align: top;\n",
       "    }\n",
       "\n",
       "    .dataframe thead th {\n",
       "        text-align: right;\n",
       "    }\n",
       "</style>\n",
       "<table border=\"1\" class=\"dataframe\">\n",
       "  <thead>\n",
       "    <tr style=\"text-align: right;\">\n",
       "      <th></th>\n",
       "      <th>abject</th>\n",
       "      <th>aboutface</th>\n",
       "      <th>accelerating</th>\n",
       "      <th>accepts</th>\n",
       "      <th>according</th>\n",
       "      <th>accounts</th>\n",
       "      <th>accused</th>\n",
       "      <th>achieve</th>\n",
       "      <th>act</th>\n",
       "      <th>actions</th>\n",
       "      <th>...</th>\n",
       "      <th>workfromhome</th>\n",
       "      <th>world</th>\n",
       "      <th>worlds</th>\n",
       "      <th>worrying</th>\n",
       "      <th>wowofortwayne</th>\n",
       "      <th>wyoming</th>\n",
       "      <th>yardeni</th>\n",
       "      <th>years</th>\n",
       "      <th>zelensky</th>\n",
       "      <th>zero</th>\n",
       "    </tr>\n",
       "  </thead>\n",
       "  <tbody>\n",
       "    <tr>\n",
       "      <th>LynAldenContact</th>\n",
       "      <td>3</td>\n",
       "      <td>1</td>\n",
       "      <td>1</td>\n",
       "      <td>1</td>\n",
       "      <td>1</td>\n",
       "      <td>1</td>\n",
       "      <td>2</td>\n",
       "      <td>1</td>\n",
       "      <td>1</td>\n",
       "      <td>1</td>\n",
       "      <td>...</td>\n",
       "      <td>1</td>\n",
       "      <td>1</td>\n",
       "      <td>1</td>\n",
       "      <td>1</td>\n",
       "      <td>1</td>\n",
       "      <td>0</td>\n",
       "      <td>1</td>\n",
       "      <td>3</td>\n",
       "      <td>1</td>\n",
       "      <td>3</td>\n",
       "    </tr>\n",
       "    <tr>\n",
       "      <th>NorthmanTrader</th>\n",
       "      <td>1</td>\n",
       "      <td>0</td>\n",
       "      <td>1</td>\n",
       "      <td>1</td>\n",
       "      <td>1</td>\n",
       "      <td>1</td>\n",
       "      <td>2</td>\n",
       "      <td>1</td>\n",
       "      <td>1</td>\n",
       "      <td>1</td>\n",
       "      <td>...</td>\n",
       "      <td>1</td>\n",
       "      <td>1</td>\n",
       "      <td>1</td>\n",
       "      <td>1</td>\n",
       "      <td>1</td>\n",
       "      <td>0</td>\n",
       "      <td>1</td>\n",
       "      <td>3</td>\n",
       "      <td>1</td>\n",
       "      <td>3</td>\n",
       "    </tr>\n",
       "    <tr>\n",
       "      <th>ReutersBiz</th>\n",
       "      <td>3</td>\n",
       "      <td>1</td>\n",
       "      <td>1</td>\n",
       "      <td>1</td>\n",
       "      <td>2</td>\n",
       "      <td>1</td>\n",
       "      <td>2</td>\n",
       "      <td>1</td>\n",
       "      <td>0</td>\n",
       "      <td>1</td>\n",
       "      <td>...</td>\n",
       "      <td>1</td>\n",
       "      <td>1</td>\n",
       "      <td>1</td>\n",
       "      <td>1</td>\n",
       "      <td>1</td>\n",
       "      <td>1</td>\n",
       "      <td>0</td>\n",
       "      <td>1</td>\n",
       "      <td>0</td>\n",
       "      <td>3</td>\n",
       "    </tr>\n",
       "    <tr>\n",
       "      <th>caroljsroth</th>\n",
       "      <td>3</td>\n",
       "      <td>1</td>\n",
       "      <td>1</td>\n",
       "      <td>1</td>\n",
       "      <td>1</td>\n",
       "      <td>1</td>\n",
       "      <td>2</td>\n",
       "      <td>1</td>\n",
       "      <td>1</td>\n",
       "      <td>1</td>\n",
       "      <td>...</td>\n",
       "      <td>1</td>\n",
       "      <td>1</td>\n",
       "      <td>1</td>\n",
       "      <td>1</td>\n",
       "      <td>1</td>\n",
       "      <td>0</td>\n",
       "      <td>1</td>\n",
       "      <td>3</td>\n",
       "      <td>1</td>\n",
       "      <td>3</td>\n",
       "    </tr>\n",
       "    <tr>\n",
       "      <th>financialjuice</th>\n",
       "      <td>1</td>\n",
       "      <td>0</td>\n",
       "      <td>1</td>\n",
       "      <td>1</td>\n",
       "      <td>1</td>\n",
       "      <td>1</td>\n",
       "      <td>2</td>\n",
       "      <td>1</td>\n",
       "      <td>1</td>\n",
       "      <td>1</td>\n",
       "      <td>...</td>\n",
       "      <td>1</td>\n",
       "      <td>1</td>\n",
       "      <td>1</td>\n",
       "      <td>1</td>\n",
       "      <td>1</td>\n",
       "      <td>0</td>\n",
       "      <td>1</td>\n",
       "      <td>3</td>\n",
       "      <td>1</td>\n",
       "      <td>3</td>\n",
       "    </tr>\n",
       "    <tr>\n",
       "      <th>zerohedge</th>\n",
       "      <td>1</td>\n",
       "      <td>0</td>\n",
       "      <td>1</td>\n",
       "      <td>1</td>\n",
       "      <td>1</td>\n",
       "      <td>1</td>\n",
       "      <td>2</td>\n",
       "      <td>1</td>\n",
       "      <td>1</td>\n",
       "      <td>1</td>\n",
       "      <td>...</td>\n",
       "      <td>1</td>\n",
       "      <td>1</td>\n",
       "      <td>1</td>\n",
       "      <td>1</td>\n",
       "      <td>1</td>\n",
       "      <td>0</td>\n",
       "      <td>1</td>\n",
       "      <td>3</td>\n",
       "      <td>1</td>\n",
       "      <td>3</td>\n",
       "    </tr>\n",
       "  </tbody>\n",
       "</table>\n",
       "<p>6 rows × 870 columns</p>\n",
       "</div>"
      ],
      "text/plain": [
       "                 abject  aboutface  accelerating  accepts  according  \\\n",
       "LynAldenContact       3          1             1        1          1   \n",
       "NorthmanTrader        1          0             1        1          1   \n",
       "ReutersBiz            3          1             1        1          2   \n",
       "caroljsroth           3          1             1        1          1   \n",
       "financialjuice        1          0             1        1          1   \n",
       "zerohedge             1          0             1        1          1   \n",
       "\n",
       "                 accounts  accused  achieve  act  actions  ...  workfromhome  \\\n",
       "LynAldenContact         1        2        1    1        1  ...             1   \n",
       "NorthmanTrader          1        2        1    1        1  ...             1   \n",
       "ReutersBiz              1        2        1    0        1  ...             1   \n",
       "caroljsroth             1        2        1    1        1  ...             1   \n",
       "financialjuice          1        2        1    1        1  ...             1   \n",
       "zerohedge               1        2        1    1        1  ...             1   \n",
       "\n",
       "                 world  worlds  worrying  wowofortwayne  wyoming  yardeni  \\\n",
       "LynAldenContact      1       1         1              1        0        1   \n",
       "NorthmanTrader       1       1         1              1        0        1   \n",
       "ReutersBiz           1       1         1              1        1        0   \n",
       "caroljsroth          1       1         1              1        0        1   \n",
       "financialjuice       1       1         1              1        0        1   \n",
       "zerohedge            1       1         1              1        0        1   \n",
       "\n",
       "                 years  zelensky  zero  \n",
       "LynAldenContact      3         1     3  \n",
       "NorthmanTrader       3         1     3  \n",
       "ReutersBiz           1         0     3  \n",
       "caroljsroth          3         1     3  \n",
       "financialjuice       3         1     3  \n",
       "zerohedge            3         1     3  \n",
       "\n",
       "[6 rows x 870 columns]"
      ]
     },
     "execution_count": 104,
     "metadata": {},
     "output_type": "execute_result"
    }
   ],
   "source": [
    "from sklearn.feature_extraction.text import CountVectorizer\n",
    "\n",
    "cv = CountVectorizer(stop_words='english')\n",
    "data_cv = cv.fit_transform(data_clean.tweets)\n",
    "data_dtm = pd.DataFrame(data_cv.toarray(), columns=cv.get_feature_names())\n",
    "data_dtm.index = data_clean.index\n",
    "data_dtm"
   ]
  },
  {
   "cell_type": "code",
   "execution_count": 105,
   "id": "3a1c7d83",
   "metadata": {},
   "outputs": [],
   "source": [
    "data_dtm.to_pickle(\"dtm.pkl\")"
   ]
  },
  {
   "cell_type": "code",
   "execution_count": 106,
   "id": "cee24c54",
   "metadata": {},
   "outputs": [],
   "source": [
    "data_clean.to_pickle('data_clean.pkl')\n",
    "pickle.dump(cv, open('cv.pkl', 'wb'))"
   ]
  },
  {
   "cell_type": "code",
   "execution_count": null,
   "id": "fddacd48",
   "metadata": {},
   "outputs": [],
   "source": []
  }
 ],
 "metadata": {
  "kernelspec": {
   "display_name": "Python 3 (ipykernel)",
   "language": "python",
   "name": "python3"
  },
  "language_info": {
   "codemirror_mode": {
    "name": "ipython",
    "version": 3
   },
   "file_extension": ".py",
   "mimetype": "text/x-python",
   "name": "python",
   "nbconvert_exporter": "python",
   "pygments_lexer": "ipython3",
   "version": "3.9.12"
  }
 },
 "nbformat": 4,
 "nbformat_minor": 5
}
