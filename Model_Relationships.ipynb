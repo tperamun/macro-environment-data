{
 "cells": [
  {
   "cell_type": "code",
   "execution_count": 1,
   "id": "264ab699",
   "metadata": {},
   "outputs": [
    {
     "data": {
      "text/plain": [
       "'\\n THESIS: As the USD currency becomes devalued, society tends to disintegrate into despair.\\n         Short-term thinking and a high-time preference can be observed in such societies,\\n         which tend to be expressed in the form of hedonism. The following models are an attempt at finding a mathematical\\n         relationship between hedonism (particularly sexual) and money supply (i,e, FED Funds rate prediction)\\n'"
      ]
     },
     "execution_count": 1,
     "metadata": {},
     "output_type": "execute_result"
    }
   ],
   "source": [
    "'''\n",
    " THESIS: As the USD currency becomes devalued, society tends to disintegrate into despair.\n",
    "         Short-term thinking and a high-time preference can be observed in such societies,\n",
    "         which tend to be expressed in the form of hedonism. The following models are an attempt at finding a mathematical\n",
    "         relationship between hedonism (particularly sexual) and money supply (i,e, FED Funds rate prediction)\n",
    "'''\n"
   ]
  },
  {
   "cell_type": "code",
   "execution_count": 3,
   "id": "4234aebf",
   "metadata": {},
   "outputs": [],
   "source": [
    "import gspread\n",
    "import pandas as pd"
   ]
  },
  {
   "cell_type": "code",
   "execution_count": 55,
   "id": "2aa4b03f",
   "metadata": {},
   "outputs": [],
   "source": [
    "import matplotlib.pyplot as plt\n",
    "from sklearn.linear_model import LinearRegression\n",
    "from sklearn.model_selection import train_test_split"
   ]
  },
  {
   "cell_type": "code",
   "execution_count": 4,
   "id": "f419533f",
   "metadata": {},
   "outputs": [],
   "source": [
    "service_account = gspread.service_account(filename=\"/Users/timal/.config/gspread/service_account.json\")\n",
    "sheet = service_account.open('tryst')\n",
    "work_sheet = sheet.worksheet('tryst')"
   ]
  },
  {
   "cell_type": "code",
   "execution_count": 5,
   "id": "7507ae48",
   "metadata": {},
   "outputs": [],
   "source": [
    "all_values = work_sheet.get_all_values()"
   ]
  },
  {
   "cell_type": "code",
   "execution_count": 6,
   "id": "3f93bc94",
   "metadata": {},
   "outputs": [],
   "source": [
    "tryst_df = pd.DataFrame(all_values)"
   ]
  },
  {
   "cell_type": "code",
   "execution_count": 7,
   "id": "0443000f",
   "metadata": {},
   "outputs": [
    {
     "data": {
      "text/html": [
       "<div>\n",
       "<style scoped>\n",
       "    .dataframe tbody tr th:only-of-type {\n",
       "        vertical-align: middle;\n",
       "    }\n",
       "\n",
       "    .dataframe tbody tr th {\n",
       "        vertical-align: top;\n",
       "    }\n",
       "\n",
       "    .dataframe thead th {\n",
       "        text-align: right;\n",
       "    }\n",
       "</style>\n",
       "<table border=\"1\" class=\"dataframe\">\n",
       "  <thead>\n",
       "    <tr style=\"text-align: right;\">\n",
       "      <th></th>\n",
       "      <th>Month</th>\n",
       "      <th>tryst: (United States)</th>\n",
       "      <th>change</th>\n",
       "    </tr>\n",
       "  </thead>\n",
       "  <tbody>\n",
       "    <tr>\n",
       "      <th>1</th>\n",
       "      <td>2004-01</td>\n",
       "      <td>7</td>\n",
       "      <td></td>\n",
       "    </tr>\n",
       "    <tr>\n",
       "      <th>2</th>\n",
       "      <td>2004-02</td>\n",
       "      <td>9</td>\n",
       "      <td>0.2857142857</td>\n",
       "    </tr>\n",
       "    <tr>\n",
       "      <th>3</th>\n",
       "      <td>2004-03</td>\n",
       "      <td>13</td>\n",
       "      <td>0.4444444444</td>\n",
       "    </tr>\n",
       "    <tr>\n",
       "      <th>4</th>\n",
       "      <td>2004-04</td>\n",
       "      <td>6</td>\n",
       "      <td>-0.5384615385</td>\n",
       "    </tr>\n",
       "    <tr>\n",
       "      <th>5</th>\n",
       "      <td>2004-05</td>\n",
       "      <td>11</td>\n",
       "      <td>0.8333333333</td>\n",
       "    </tr>\n",
       "    <tr>\n",
       "      <th>...</th>\n",
       "      <td>...</td>\n",
       "      <td>...</td>\n",
       "      <td>...</td>\n",
       "    </tr>\n",
       "    <tr>\n",
       "      <th>217</th>\n",
       "      <td>2022-01</td>\n",
       "      <td>80</td>\n",
       "      <td>0</td>\n",
       "    </tr>\n",
       "    <tr>\n",
       "      <th>218</th>\n",
       "      <td>2022-02</td>\n",
       "      <td>91</td>\n",
       "      <td>0.1375</td>\n",
       "    </tr>\n",
       "    <tr>\n",
       "      <th>219</th>\n",
       "      <td>2022-03</td>\n",
       "      <td>90</td>\n",
       "      <td>-0.01098901099</td>\n",
       "    </tr>\n",
       "    <tr>\n",
       "      <th>220</th>\n",
       "      <td>2022-04</td>\n",
       "      <td>88</td>\n",
       "      <td>-0.02222222222</td>\n",
       "    </tr>\n",
       "    <tr>\n",
       "      <th>221</th>\n",
       "      <td>2022-05</td>\n",
       "      <td>94</td>\n",
       "      <td>0.06818181818</td>\n",
       "    </tr>\n",
       "  </tbody>\n",
       "</table>\n",
       "<p>221 rows × 3 columns</p>\n",
       "</div>"
      ],
      "text/plain": [
       "       Month tryst: (United States)          change\n",
       "1    2004-01                      7                \n",
       "2    2004-02                      9    0.2857142857\n",
       "3    2004-03                     13    0.4444444444\n",
       "4    2004-04                      6   -0.5384615385\n",
       "5    2004-05                     11    0.8333333333\n",
       "..       ...                    ...             ...\n",
       "217  2022-01                     80               0\n",
       "218  2022-02                     91          0.1375\n",
       "219  2022-03                     90  -0.01098901099\n",
       "220  2022-04                     88  -0.02222222222\n",
       "221  2022-05                     94   0.06818181818\n",
       "\n",
       "[221 rows x 3 columns]"
      ]
     },
     "execution_count": 7,
     "metadata": {},
     "output_type": "execute_result"
    }
   ],
   "source": [
    "tryst_df.rename(columns=tryst_df.iloc[0], inplace=True)\n",
    "tryst_df.drop(tryst_df.index[0], inplace=True)\n",
    "tryst_df"
   ]
  },
  {
   "cell_type": "code",
   "execution_count": 8,
   "id": "a4cdaa4b",
   "metadata": {},
   "outputs": [],
   "source": [
    "sheet_2 = service_account.open('FEDFUNDS')\n",
    "work_sheet_2 = sheet_2.worksheet('FEDFUNDS')"
   ]
  },
  {
   "cell_type": "code",
   "execution_count": 9,
   "id": "c196f6b0",
   "metadata": {},
   "outputs": [],
   "source": [
    "fed_funds_df = pd.DataFrame(work_sheet_2.get_all_values())"
   ]
  },
  {
   "cell_type": "code",
   "execution_count": 10,
   "id": "977e762e",
   "metadata": {},
   "outputs": [
    {
     "data": {
      "text/html": [
       "<div>\n",
       "<style scoped>\n",
       "    .dataframe tbody tr th:only-of-type {\n",
       "        vertical-align: middle;\n",
       "    }\n",
       "\n",
       "    .dataframe tbody tr th {\n",
       "        vertical-align: top;\n",
       "    }\n",
       "\n",
       "    .dataframe thead th {\n",
       "        text-align: right;\n",
       "    }\n",
       "</style>\n",
       "<table border=\"1\" class=\"dataframe\">\n",
       "  <thead>\n",
       "    <tr style=\"text-align: right;\">\n",
       "      <th></th>\n",
       "      <th>DATE</th>\n",
       "      <th>FEDFUNDS</th>\n",
       "      <th>change</th>\n",
       "    </tr>\n",
       "  </thead>\n",
       "  <tbody>\n",
       "    <tr>\n",
       "      <th>1</th>\n",
       "      <td>2004-01-01</td>\n",
       "      <td>1</td>\n",
       "      <td></td>\n",
       "    </tr>\n",
       "    <tr>\n",
       "      <th>2</th>\n",
       "      <td>2004-02-01</td>\n",
       "      <td>1.01</td>\n",
       "      <td>0.01</td>\n",
       "    </tr>\n",
       "    <tr>\n",
       "      <th>3</th>\n",
       "      <td>2004-03-01</td>\n",
       "      <td>1</td>\n",
       "      <td>-0.009900990099</td>\n",
       "    </tr>\n",
       "    <tr>\n",
       "      <th>4</th>\n",
       "      <td>2004-04-01</td>\n",
       "      <td>1</td>\n",
       "      <td>0</td>\n",
       "    </tr>\n",
       "    <tr>\n",
       "      <th>5</th>\n",
       "      <td>2004-05-01</td>\n",
       "      <td>1</td>\n",
       "      <td>0</td>\n",
       "    </tr>\n",
       "    <tr>\n",
       "      <th>...</th>\n",
       "      <td>...</td>\n",
       "      <td>...</td>\n",
       "      <td>...</td>\n",
       "    </tr>\n",
       "    <tr>\n",
       "      <th>217</th>\n",
       "      <td>2022-01-01</td>\n",
       "      <td>0.08</td>\n",
       "      <td>0</td>\n",
       "    </tr>\n",
       "    <tr>\n",
       "      <th>218</th>\n",
       "      <td>2022-02-01</td>\n",
       "      <td>0.08</td>\n",
       "      <td>0</td>\n",
       "    </tr>\n",
       "    <tr>\n",
       "      <th>219</th>\n",
       "      <td>2022-03-01</td>\n",
       "      <td>0.2</td>\n",
       "      <td>1.5</td>\n",
       "    </tr>\n",
       "    <tr>\n",
       "      <th>220</th>\n",
       "      <td>2022-04-01</td>\n",
       "      <td>0.33</td>\n",
       "      <td>0.65</td>\n",
       "    </tr>\n",
       "    <tr>\n",
       "      <th>221</th>\n",
       "      <td>2022-05-01</td>\n",
       "      <td>0.77</td>\n",
       "      <td>1.333333333</td>\n",
       "    </tr>\n",
       "  </tbody>\n",
       "</table>\n",
       "<p>221 rows × 3 columns</p>\n",
       "</div>"
      ],
      "text/plain": [
       "           DATE FEDFUNDS           change\n",
       "1    2004-01-01        1                 \n",
       "2    2004-02-01     1.01             0.01\n",
       "3    2004-03-01        1  -0.009900990099\n",
       "4    2004-04-01        1                0\n",
       "5    2004-05-01        1                0\n",
       "..          ...      ...              ...\n",
       "217  2022-01-01     0.08                0\n",
       "218  2022-02-01     0.08                0\n",
       "219  2022-03-01      0.2              1.5\n",
       "220  2022-04-01     0.33             0.65\n",
       "221  2022-05-01     0.77      1.333333333\n",
       "\n",
       "[221 rows x 3 columns]"
      ]
     },
     "execution_count": 10,
     "metadata": {},
     "output_type": "execute_result"
    }
   ],
   "source": [
    "fed_funds_df.rename(columns=fed_funds_df.iloc[0], inplace=True)\n",
    "fed_funds_df.drop(fed_funds_df.index[0], inplace=True)\n",
    "fed_funds_df"
   ]
  },
  {
   "cell_type": "code",
   "execution_count": 11,
   "id": "60f1397a",
   "metadata": {},
   "outputs": [],
   "source": [
    "fed_funds_and_tryst_df = pd.DataFrame([tryst_df.Month, fed_funds_df.change, tryst_df.change]).transpose()"
   ]
  },
  {
   "cell_type": "code",
   "execution_count": 12,
   "id": "25dbd17a",
   "metadata": {},
   "outputs": [],
   "source": [
    "fed_funds_and_tryst_df.columns = ['Date', 'Fed Funds Change', 'Tryst Searches Change']"
   ]
  },
  {
   "cell_type": "code",
   "execution_count": 27,
   "id": "ad664052",
   "metadata": {},
   "outputs": [
    {
     "data": {
      "text/html": [
       "<div>\n",
       "<style scoped>\n",
       "    .dataframe tbody tr th:only-of-type {\n",
       "        vertical-align: middle;\n",
       "    }\n",
       "\n",
       "    .dataframe tbody tr th {\n",
       "        vertical-align: top;\n",
       "    }\n",
       "\n",
       "    .dataframe thead th {\n",
       "        text-align: right;\n",
       "    }\n",
       "</style>\n",
       "<table border=\"1\" class=\"dataframe\">\n",
       "  <thead>\n",
       "    <tr style=\"text-align: right;\">\n",
       "      <th></th>\n",
       "      <th>Date</th>\n",
       "      <th>Fed Funds Change</th>\n",
       "      <th>Tryst Searches Change</th>\n",
       "    </tr>\n",
       "  </thead>\n",
       "  <tbody>\n",
       "    <tr>\n",
       "      <th>1</th>\n",
       "      <td>2004-01</td>\n",
       "      <td></td>\n",
       "      <td></td>\n",
       "    </tr>\n",
       "    <tr>\n",
       "      <th>2</th>\n",
       "      <td>2004-02</td>\n",
       "      <td>0.01</td>\n",
       "      <td>0.2857142857</td>\n",
       "    </tr>\n",
       "    <tr>\n",
       "      <th>3</th>\n",
       "      <td>2004-03</td>\n",
       "      <td>-0.009900990099</td>\n",
       "      <td>0.4444444444</td>\n",
       "    </tr>\n",
       "    <tr>\n",
       "      <th>4</th>\n",
       "      <td>2004-04</td>\n",
       "      <td>0</td>\n",
       "      <td>-0.5384615385</td>\n",
       "    </tr>\n",
       "    <tr>\n",
       "      <th>5</th>\n",
       "      <td>2004-05</td>\n",
       "      <td>0</td>\n",
       "      <td>0.8333333333</td>\n",
       "    </tr>\n",
       "    <tr>\n",
       "      <th>...</th>\n",
       "      <td>...</td>\n",
       "      <td>...</td>\n",
       "      <td>...</td>\n",
       "    </tr>\n",
       "    <tr>\n",
       "      <th>217</th>\n",
       "      <td>2022-01</td>\n",
       "      <td>0</td>\n",
       "      <td>0</td>\n",
       "    </tr>\n",
       "    <tr>\n",
       "      <th>218</th>\n",
       "      <td>2022-02</td>\n",
       "      <td>0</td>\n",
       "      <td>0.1375</td>\n",
       "    </tr>\n",
       "    <tr>\n",
       "      <th>219</th>\n",
       "      <td>2022-03</td>\n",
       "      <td>1.5</td>\n",
       "      <td>-0.01098901099</td>\n",
       "    </tr>\n",
       "    <tr>\n",
       "      <th>220</th>\n",
       "      <td>2022-04</td>\n",
       "      <td>0.65</td>\n",
       "      <td>-0.02222222222</td>\n",
       "    </tr>\n",
       "    <tr>\n",
       "      <th>221</th>\n",
       "      <td>2022-05</td>\n",
       "      <td>1.333333333</td>\n",
       "      <td>0.06818181818</td>\n",
       "    </tr>\n",
       "  </tbody>\n",
       "</table>\n",
       "<p>221 rows × 3 columns</p>\n",
       "</div>"
      ],
      "text/plain": [
       "        Date Fed Funds Change Tryst Searches Change\n",
       "1    2004-01                                       \n",
       "2    2004-02             0.01          0.2857142857\n",
       "3    2004-03  -0.009900990099          0.4444444444\n",
       "4    2004-04                0         -0.5384615385\n",
       "5    2004-05                0          0.8333333333\n",
       "..       ...              ...                   ...\n",
       "217  2022-01                0                     0\n",
       "218  2022-02                0                0.1375\n",
       "219  2022-03              1.5        -0.01098901099\n",
       "220  2022-04             0.65        -0.02222222222\n",
       "221  2022-05      1.333333333         0.06818181818\n",
       "\n",
       "[221 rows x 3 columns]"
      ]
     },
     "execution_count": 27,
     "metadata": {},
     "output_type": "execute_result"
    }
   ],
   "source": [
    "fed_funds_and_tryst_df"
   ]
  },
  {
   "cell_type": "code",
   "execution_count": 28,
   "id": "395bd931",
   "metadata": {},
   "outputs": [],
   "source": [
    "fed_funds_and_tryst_df[['Fed Funds Change', 'Tryst Searches Change']] = fed_funds_and_tryst_df[['Fed Funds Change', 'Tryst Searches Change']].apply(pd.to_numeric)"
   ]
  },
  {
   "cell_type": "code",
   "execution_count": 64,
   "id": "806b7911",
   "metadata": {},
   "outputs": [],
   "source": [
    "service_account = gspread.service_account(filename=\"/Users/timal/.config/gspread/service_account.json\")\n",
    "sheet = service_account.open('tryst_fedfunds')\n",
    "work_sheet = sheet.worksheet('tryst_fedfunds')"
   ]
  },
  {
   "cell_type": "code",
   "execution_count": 65,
   "id": "80d571d9",
   "metadata": {},
   "outputs": [
    {
     "data": {
      "text/html": [
       "<div>\n",
       "<style scoped>\n",
       "    .dataframe tbody tr th:only-of-type {\n",
       "        vertical-align: middle;\n",
       "    }\n",
       "\n",
       "    .dataframe tbody tr th {\n",
       "        vertical-align: top;\n",
       "    }\n",
       "\n",
       "    .dataframe thead th {\n",
       "        text-align: right;\n",
       "    }\n",
       "</style>\n",
       "<table border=\"1\" class=\"dataframe\">\n",
       "  <thead>\n",
       "    <tr style=\"text-align: right;\">\n",
       "      <th></th>\n",
       "      <th>tryst</th>\n",
       "      <th>fed_funds</th>\n",
       "    </tr>\n",
       "  </thead>\n",
       "  <tbody>\n",
       "    <tr>\n",
       "      <th>1</th>\n",
       "      <td>7</td>\n",
       "      <td>1</td>\n",
       "    </tr>\n",
       "    <tr>\n",
       "      <th>2</th>\n",
       "      <td>9</td>\n",
       "      <td>1.01</td>\n",
       "    </tr>\n",
       "    <tr>\n",
       "      <th>3</th>\n",
       "      <td>13</td>\n",
       "      <td>1</td>\n",
       "    </tr>\n",
       "    <tr>\n",
       "      <th>4</th>\n",
       "      <td>6</td>\n",
       "      <td>1</td>\n",
       "    </tr>\n",
       "    <tr>\n",
       "      <th>5</th>\n",
       "      <td>11</td>\n",
       "      <td>1</td>\n",
       "    </tr>\n",
       "    <tr>\n",
       "      <th>...</th>\n",
       "      <td>...</td>\n",
       "      <td>...</td>\n",
       "    </tr>\n",
       "    <tr>\n",
       "      <th>217</th>\n",
       "      <td>80</td>\n",
       "      <td>0.08</td>\n",
       "    </tr>\n",
       "    <tr>\n",
       "      <th>218</th>\n",
       "      <td>91</td>\n",
       "      <td>0.08</td>\n",
       "    </tr>\n",
       "    <tr>\n",
       "      <th>219</th>\n",
       "      <td>90</td>\n",
       "      <td>0.2</td>\n",
       "    </tr>\n",
       "    <tr>\n",
       "      <th>220</th>\n",
       "      <td>88</td>\n",
       "      <td>0.33</td>\n",
       "    </tr>\n",
       "    <tr>\n",
       "      <th>221</th>\n",
       "      <td>94</td>\n",
       "      <td>0.77</td>\n",
       "    </tr>\n",
       "  </tbody>\n",
       "</table>\n",
       "<p>221 rows × 2 columns</p>\n",
       "</div>"
      ],
      "text/plain": [
       "    tryst fed_funds\n",
       "1       7         1\n",
       "2       9      1.01\n",
       "3      13         1\n",
       "4       6         1\n",
       "5      11         1\n",
       "..    ...       ...\n",
       "217    80      0.08\n",
       "218    91      0.08\n",
       "219    90       0.2\n",
       "220    88      0.33\n",
       "221    94      0.77\n",
       "\n",
       "[221 rows x 2 columns]"
      ]
     },
     "execution_count": 65,
     "metadata": {},
     "output_type": "execute_result"
    }
   ],
   "source": [
    "tryst_fedfunds = pd.DataFrame(work_sheet.get_all_values())\n",
    "tryst_fedfunds.rename(columns=tryst_fedfunds.iloc[0], inplace=True)\n",
    "tryst_fedfunds.drop(tryst_fedfunds.index[0], inplace=True)\n",
    "tryst_fedfunds"
   ]
  },
  {
   "cell_type": "code",
   "execution_count": 67,
   "id": "2f177917",
   "metadata": {},
   "outputs": [
    {
     "data": {
      "text/plain": [
       "<matplotlib.collections.PathCollection at 0x7ff058c516a0>"
      ]
     },
     "execution_count": 67,
     "metadata": {},
     "output_type": "execute_result"
    },
    {
     "data": {
      "image/png": "[encoded data removed]",
      "text/plain": [
       "<Figure size 432x288 with 1 Axes>"
      ]
     },
     "metadata": {
      "needs_background": "light"
     },
     "output_type": "display_data"
    },
    {
     "data": {
      "image/png": "[encoded data removed]",
      "text/plain": [
       "<Figure size 1440x1440 with 1 Axes>"
      ]
     },
     "metadata": {
      "needs_background": "light"
     },
     "output_type": "display_data"
    }
   ],
   "source": [
    "%matplotlib inline\n",
    "plt.xlabel('Tryst Searches change')\n",
    "plt.ylabel('Fed Funds Change')\n",
    "plt.figure(figsize=(20,20))\n",
    "plt.scatter(tryst_fedfunds['tryst'],tryst_fedfunds['fed_funds'])"
   ]
  },
  {
   "cell_type": "code",
   "execution_count": 68,
   "id": "80c5f671",
   "metadata": {},
   "outputs": [
    {
     "data": {
      "text/plain": [
       "LinearRegression()"
      ]
     },
     "execution_count": 68,
     "metadata": {},
     "output_type": "execute_result"
    }
   ],
   "source": [
    "x_train, x_test, y_train, y_test = train_test_split(tryst_fedfunds.tryst, tryst_fedfunds.fed_funds, test_size=0.2)\n",
    "classifier = LinearRegression()\n",
    "classifier.fit(x_train.values.reshape(-1,1), y_train)"
   ]
  },
  {
   "cell_type": "code",
   "execution_count": 70,
   "id": "a1e82482",
   "metadata": {},
   "outputs": [
    {
     "data": {
      "text/plain": [
       "-0.017801840677071246"
      ]
     },
     "execution_count": 70,
     "metadata": {},
     "output_type": "execute_result"
    }
   ],
   "source": [
    "classifier.score(x_test.values.reshape(-1,1), y_test)"
   ]
  },
  {
   "cell_type": "code",
   "execution_count": null,
   "id": "fea51a4c",
   "metadata": {},
   "outputs": [],
   "source": []
  },
  {
   "cell_type": "code",
   "execution_count": null,
   "id": "70369748",
   "metadata": {},
   "outputs": [],
   "source": []
  },
  {
   "cell_type": "code",
   "execution_count": null,
   "id": "563e0d0e",
   "metadata": {},
   "outputs": [],
   "source": []
  },
  {
   "cell_type": "code",
   "execution_count": null,
   "id": "d3e48b34",
   "metadata": {},
   "outputs": [],
   "source": []
  },
  {
   "cell_type": "code",
   "execution_count": null,
   "id": "f8e93a83",
   "metadata": {},
   "outputs": [],
   "source": []
  },
  {
   "cell_type": "code",
   "execution_count": 47,
   "id": "8a07fa4c",
   "metadata": {},
   "outputs": [],
   "source": [
    "x_train, x_test, y_train, y_test = train_test_split(tryst_fedfunds.tryst_change, tryst_fedfunds.fed_funds_change, test_size=0.2)"
   ]
  },
  {
   "cell_type": "code",
   "execution_count": 58,
   "id": "e82cc219",
   "metadata": {},
   "outputs": [
    {
     "data": {
      "text/plain": [
       "LinearRegression()"
      ]
     },
     "execution_count": 58,
     "metadata": {},
     "output_type": "execute_result"
    }
   ],
   "source": [
    "classifier = LinearRegression()\n",
    "classifier.fit(x_train.values.reshape(-1,1), y_train)"
   ]
  },
  {
   "cell_type": "code",
   "execution_count": 60,
   "id": "fb1289b7",
   "metadata": {},
   "outputs": [
    {
     "data": {
      "text/plain": [
       "array([0.03208551, 0.02999984, 0.03101288, 0.03202592, 0.03198539,\n",
       "       0.03074861, 0.0306752 , 0.03060766, 0.03267058, 0.03194799,\n",
       "       0.02877353, 0.0318812 , 0.03125601, 0.03029779, 0.03048103,\n",
       "       0.03101288, 0.03182331, 0.03065533, 0.03182331, 0.03101288,\n",
       "       0.0295827 , 0.03056264, 0.03081681, 0.03428577, 0.03192461,\n",
       "       0.03213848, 0.03036164, 0.0307791 , 0.03135056, 0.03116873,\n",
       "       0.03076975, 0.03004036, 0.03101288, 0.03127715, 0.03014456,\n",
       "       0.02968326, 0.0307958 , 0.03052662, 0.03274952, 0.031238  ,\n",
       "       0.02995579, 0.03231536, 0.03209828, 0.03202592])"
      ]
     },
     "execution_count": 60,
     "metadata": {},
     "output_type": "execute_result"
    }
   ],
   "source": [
    "classifier.predict(x_test.values.reshape(-1, 1))"
   ]
  },
  {
   "cell_type": "code",
   "execution_count": 63,
   "id": "ec16a0ab",
   "metadata": {},
   "outputs": [
    {
     "data": {
      "text/plain": [
       "-0.08700724603618615"
      ]
     },
     "execution_count": 63,
     "metadata": {},
     "output_type": "execute_result"
    }
   ],
   "source": [
    "classifier.score(x_test.values.reshape(-1,1), y_test)"
   ]
  },
  {
   "cell_type": "code",
   "execution_count": null,
   "id": "3f42df68",
   "metadata": {},
   "outputs": [],
   "source": [
    "from sklearn import metrics\n",
    "\n",
    "print(metrics.mean_absolute_error(y_test))"
   ]
  }
 ],
 "metadata": {
  "kernelspec": {
   "display_name": "Python 3 (ipykernel)",
   "language": "python",
   "name": "python3"
  },
  "language_info": {
   "codemirror_mode": {
    "name": "ipython",
    "version": 3
   },
   "file_extension": ".py",
   "mimetype": "text/x-python",
   "name": "python",
   "nbconvert_exporter": "python",
   "pygments_lexer": "ipython3",
   "version": "3.9.12"
  }
 },
 "nbformat": 4,
 "nbformat_minor": 5
}
