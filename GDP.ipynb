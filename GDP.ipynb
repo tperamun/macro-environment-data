{
 "cells": [
  {
   "cell_type": "code",
   "execution_count": null,
   "id": "4a70d9d2",
   "metadata": {},
   "outputs": [],
   "source": [
    "pip install --upgrade google-api-python-client"
   ]
  },
  {
   "cell_type": "code",
   "execution_count": null,
   "id": "fd4a770b",
   "metadata": {},
   "outputs": [],
   "source": [
    "pip install --upgrade google-auth-httplib2"
   ]
  },
  {
   "cell_type": "code",
   "execution_count": null,
   "id": "5fbc8b75",
   "metadata": {},
   "outputs": [],
   "source": [
    "pip install --upgrade google-auth-oauthlib"
   ]
  },
  {
   "cell_type": "code",
   "execution_count": null,
   "id": "de72e5db",
   "metadata": {},
   "outputs": [],
   "source": [
    "pip install gspread"
   ]
  },
  {
   "cell_type": "code",
   "execution_count": null,
   "id": "8eb10f79",
   "metadata": {},
   "outputs": [],
   "source": [
    "pip install pandas"
   ]
  },
  {
   "cell_type": "code",
   "execution_count": null,
   "id": "811a5ea2",
   "metadata": {},
   "outputs": [],
   "source": [
    "pip install PyMySQL"
   ]
  },
  {
   "cell_type": "code",
   "execution_count": null,
   "id": "98665706",
   "metadata": {},
   "outputs": [],
   "source": [
    "mkdir ~/.config/gspread"
   ]
  },
  {
   "cell_type": "code",
   "execution_count": null,
   "id": "220097e3",
   "metadata": {},
   "outputs": [],
   "source": []
  },
  {
   "cell_type": "code",
   "execution_count": null,
   "id": "fdc1acb3",
   "metadata": {},
   "outputs": [],
   "source": []
  },
  {
   "cell_type": "code",
   "execution_count": 264,
   "id": "74812cb2",
   "metadata": {},
   "outputs": [],
   "source": [
    "import gspread\n",
    "import pandas as pd"
   ]
  },
  {
   "cell_type": "code",
   "execution_count": 265,
   "id": "9f6652b2",
   "metadata": {},
   "outputs": [],
   "source": [
    "import pymysql.cursors"
   ]
  },
  {
   "cell_type": "code",
   "execution_count": 266,
   "id": "4414dd81",
   "metadata": {},
   "outputs": [],
   "source": [
    "service_account = gspread.service_account(filename=\"/Users/timal/.config/gspread/service_account.json\")"
   ]
  },
  {
   "cell_type": "code",
   "execution_count": 267,
   "id": "5dec7b0f",
   "metadata": {
    "scrolled": true
   },
   "outputs": [],
   "source": [
    "sheet = service_account.open(\"Annual_GDP\")"
   ]
  },
  {
   "cell_type": "code",
   "execution_count": 268,
   "id": "a2a23a36",
   "metadata": {},
   "outputs": [],
   "source": [
    "work_sheet = sheet.worksheet(\"Annual\")"
   ]
  },
  {
   "cell_type": "code",
   "execution_count": 269,
   "id": "5e60889e",
   "metadata": {},
   "outputs": [],
   "source": [
    "all_values = work_sheet.get_all_values()"
   ]
  },
  {
   "cell_type": "code",
   "execution_count": 270,
   "id": "5d01afea",
   "metadata": {},
   "outputs": [],
   "source": [
    "df = pd.DataFrame(all_values)"
   ]
  },
  {
   "cell_type": "code",
   "execution_count": 271,
   "id": "0edb2783",
   "metadata": {},
   "outputs": [],
   "source": [
    "column_names = df.loc[6:6:].values.tolist()[0]"
   ]
  },
  {
   "cell_type": "code",
   "execution_count": 272,
   "id": "bfdf069a",
   "metadata": {},
   "outputs": [
    {
     "data": {
      "text/plain": [
       "'Base Year'"
      ]
     },
     "execution_count": 272,
     "metadata": {},
     "output_type": "execute_result"
    }
   ],
   "source": [
    "column_names.pop(0) # remmove empty column\n",
    "column_names.pop(2) # remove 'Base Year' field as it is empty"
   ]
  },
  {
   "cell_type": "code",
   "execution_count": 273,
   "id": "baacd053",
   "metadata": {},
   "outputs": [],
   "source": [
    "# column_names\n",
    "prefix = 'year_'\n",
    "\n",
    "for i, column in enumerate(column_names):\n",
    "    if i >= 2:\n",
    "        column_names[i] = prefix + column_names[i]\n",
    "    "
   ]
  },
  {
   "cell_type": "code",
   "execution_count": 274,
   "id": "e122ff2f",
   "metadata": {},
   "outputs": [
    {
     "data": {
      "text/plain": [
       "['country',\n",
       " 'scale',\n",
       " 'year_1950',\n",
       " 'year_1951',\n",
       " 'year_1952',\n",
       " 'year_1953',\n",
       " 'year_1954',\n",
       " 'year_1955',\n",
       " 'year_1956',\n",
       " 'year_1957',\n",
       " 'year_1958',\n",
       " 'year_1959',\n",
       " 'year_1960',\n",
       " 'year_1961',\n",
       " 'year_1962',\n",
       " 'year_1963',\n",
       " 'year_1964',\n",
       " 'year_1965',\n",
       " 'year_1966',\n",
       " 'year_1967',\n",
       " 'year_1968',\n",
       " 'year_1969',\n",
       " 'year_1970',\n",
       " 'year_1971',\n",
       " 'year_1972',\n",
       " 'year_1973',\n",
       " 'year_1974',\n",
       " 'year_1975',\n",
       " 'year_1976',\n",
       " 'year_1977',\n",
       " 'year_1978',\n",
       " 'year_1979',\n",
       " 'year_1980',\n",
       " 'year_1981',\n",
       " 'year_1982',\n",
       " 'year_1983',\n",
       " 'year_1984',\n",
       " 'year_1985',\n",
       " 'year_1986',\n",
       " 'year_1987',\n",
       " 'year_1988',\n",
       " 'year_1989',\n",
       " 'year_1990',\n",
       " 'year_1991',\n",
       " 'year_1992',\n",
       " 'year_1993',\n",
       " 'year_1994',\n",
       " 'year_1995',\n",
       " 'year_1996',\n",
       " 'year_1997',\n",
       " 'year_1998',\n",
       " 'year_1999',\n",
       " 'year_2000',\n",
       " 'year_2001',\n",
       " 'year_2002',\n",
       " 'year_2003',\n",
       " 'year_2004',\n",
       " 'year_2005',\n",
       " 'year_2006',\n",
       " 'year_2007',\n",
       " 'year_2008',\n",
       " 'year_2009',\n",
       " 'year_2010',\n",
       " 'year_2011',\n",
       " 'year_2012',\n",
       " 'year_2013',\n",
       " 'year_2014',\n",
       " 'year_2015',\n",
       " 'year_2016',\n",
       " 'year_2017',\n",
       " 'year_2018',\n",
       " 'year_2019',\n",
       " 'year_2020',\n",
       " 'year_2021']"
      ]
     },
     "execution_count": 274,
     "metadata": {},
     "output_type": "execute_result"
    }
   ],
   "source": [
    "column_names[0] = 'country'\n",
    "column_names[1] = 'scale'\n",
    "column_names"
   ]
  },
  {
   "cell_type": "code",
   "execution_count": 275,
   "id": "e2929d69",
   "metadata": {},
   "outputs": [
    {
     "data": {
      "text/plain": [
       "''"
      ]
     },
     "execution_count": 275,
     "metadata": {},
     "output_type": "execute_result"
    }
   ],
   "source": [
    "us_annual_gdp = df.loc[196:196:].values.tolist()[0]\n",
    "us_annual_gdp.pop(0) # remove empty first value"
   ]
  },
  {
   "cell_type": "code",
   "execution_count": 276,
   "id": "11fec5a3",
   "metadata": {},
   "outputs": [
    {
     "data": {
      "text/plain": [
       "''"
      ]
     },
     "execution_count": 276,
     "metadata": {},
     "output_type": "execute_result"
    }
   ],
   "source": [
    "us_annual_gdp.pop(2) #remove empty 'Base Year' value"
   ]
  },
  {
   "cell_type": "code",
   "execution_count": 277,
   "id": "a4bfb38d",
   "metadata": {},
   "outputs": [
    {
     "data": {
      "text/plain": [
       "74"
      ]
     },
     "execution_count": 277,
     "metadata": {},
     "output_type": "execute_result"
    }
   ],
   "source": [
    "len(column_names)"
   ]
  },
  {
   "cell_type": "code",
   "execution_count": 238,
   "id": "69ae30cf",
   "metadata": {},
   "outputs": [],
   "source": [
    "# column_datatypes= ['VARCHAR(80)] * 74"
   ]
  },
  {
   "cell_type": "code",
   "execution_count": 240,
   "id": "a8f3bc0c",
   "metadata": {},
   "outputs": [],
   "source": [
    "# column_datatypes"
   ]
  },
  {
   "cell_type": "code",
   "execution_count": null,
   "id": "0aa876a1",
   "metadata": {},
   "outputs": [],
   "source": []
  },
  {
   "cell_type": "code",
   "execution_count": 226,
   "id": "68887eec",
   "metadata": {},
   "outputs": [],
   "source": [
    "cleaned_df = pd.DataFrame(columns=column_names)"
   ]
  },
  {
   "cell_type": "code",
   "execution_count": 227,
   "id": "459b8861",
   "metadata": {},
   "outputs": [],
   "source": [
    "cleaned_df.loc[len(cleaned_df)] = us_annual_gdp"
   ]
  },
  {
   "cell_type": "code",
   "execution_count": 228,
   "id": "56257006",
   "metadata": {},
   "outputs": [
    {
     "data": {
      "text/html": [
       "<div>\n",
       "<style scoped>\n",
       "    .dataframe tbody tr th:only-of-type {\n",
       "        vertical-align: middle;\n",
       "    }\n",
       "\n",
       "    .dataframe tbody tr th {\n",
       "        vertical-align: top;\n",
       "    }\n",
       "\n",
       "    .dataframe thead th {\n",
       "        text-align: right;\n",
       "    }\n",
       "</style>\n",
       "<table border=\"1\" class=\"dataframe\">\n",
       "  <thead>\n",
       "    <tr style=\"text-align: right;\">\n",
       "      <th></th>\n",
       "      <th>country</th>\n",
       "      <th>scale</th>\n",
       "      <th>year_1950</th>\n",
       "      <th>year_1951</th>\n",
       "      <th>year_1952</th>\n",
       "      <th>year_1953</th>\n",
       "      <th>year_1954</th>\n",
       "      <th>year_1955</th>\n",
       "      <th>year_1956</th>\n",
       "      <th>year_1957</th>\n",
       "      <th>...</th>\n",
       "      <th>year_2012</th>\n",
       "      <th>year_2013</th>\n",
       "      <th>year_2014</th>\n",
       "      <th>year_2015</th>\n",
       "      <th>year_2016</th>\n",
       "      <th>year_2017</th>\n",
       "      <th>year_2018</th>\n",
       "      <th>year_2019</th>\n",
       "      <th>year_2020</th>\n",
       "      <th>year_2021</th>\n",
       "    </tr>\n",
       "  </thead>\n",
       "  <tbody>\n",
       "  </tbody>\n",
       "</table>\n",
       "<p>0 rows × 74 columns</p>\n",
       "</div>"
      ],
      "text/plain": [
       "Empty DataFrame\n",
       "Columns: [country, scale, year_1950, year_1951, year_1952, year_1953, year_1954, year_1955, year_1956, year_1957, year_1958, year_1959, year_1960, year_1961, year_1962, year_1963, year_1964, year_1965, year_1966, year_1967, year_1968, year_1969, year_1970, year_1971, year_1972, year_1973, year_1974, year_1975, year_1976, year_1977, year_1978, year_1979, year_1980, year_1981, year_1982, year_1983, year_1984, year_1985, year_1986, year_1987, year_1988, year_1989, year_1990, year_1991, year_1992, year_1993, year_1994, year_1995, year_1996, year_1997, year_1998, year_1999, year_2000, year_2001, year_2002, year_2003, year_2004, year_2005, year_2006, year_2007, year_2008, year_2009, year_2010, year_2011, year_2012, year_2013, year_2014, year_2015, year_2016, year_2017, year_2018, year_2019, year_2020, year_2021]\n",
       "Index: []\n",
       "\n",
       "[0 rows x 74 columns]"
      ]
     },
     "execution_count": 228,
     "metadata": {},
     "output_type": "execute_result"
    }
   ],
   "source": [
    "cleaned_df.drop(cleaned_df.index[0])"
   ]
  },
  {
   "cell_type": "code",
   "execution_count": 229,
   "id": "5aea2532",
   "metadata": {},
   "outputs": [
    {
     "data": {
      "text/html": [
       "<div>\n",
       "<style scoped>\n",
       "    .dataframe tbody tr th:only-of-type {\n",
       "        vertical-align: middle;\n",
       "    }\n",
       "\n",
       "    .dataframe tbody tr th {\n",
       "        vertical-align: top;\n",
       "    }\n",
       "\n",
       "    .dataframe thead th {\n",
       "        text-align: right;\n",
       "    }\n",
       "</style>\n",
       "<table border=\"1\" class=\"dataframe\">\n",
       "  <thead>\n",
       "    <tr style=\"text-align: right;\">\n",
       "      <th></th>\n",
       "      <th>country</th>\n",
       "      <th>scale</th>\n",
       "      <th>year_1950</th>\n",
       "      <th>year_1951</th>\n",
       "      <th>year_1952</th>\n",
       "      <th>year_1953</th>\n",
       "      <th>year_1954</th>\n",
       "      <th>year_1955</th>\n",
       "      <th>year_1956</th>\n",
       "      <th>year_1957</th>\n",
       "      <th>...</th>\n",
       "      <th>year_2012</th>\n",
       "      <th>year_2013</th>\n",
       "      <th>year_2014</th>\n",
       "      <th>year_2015</th>\n",
       "      <th>year_2016</th>\n",
       "      <th>year_2017</th>\n",
       "      <th>year_2018</th>\n",
       "      <th>year_2019</th>\n",
       "      <th>year_2020</th>\n",
       "      <th>year_2021</th>\n",
       "    </tr>\n",
       "  </thead>\n",
       "  <tbody>\n",
       "    <tr>\n",
       "      <th>0</th>\n",
       "      <td>United States</td>\n",
       "      <td>Millions</td>\n",
       "      <td>299,827.30</td>\n",
       "      <td>346,913.30</td>\n",
       "      <td>367,340.80</td>\n",
       "      <td>389,217.50</td>\n",
       "      <td>390,549.00</td>\n",
       "      <td>425,479.50</td>\n",
       "      <td>449,352.50</td>\n",
       "      <td>474,039.50</td>\n",
       "      <td>...</td>\n",
       "      <td>16,253,970.00</td>\n",
       "      <td>16,843,195.80</td>\n",
       "      <td>17,550,687.80</td>\n",
       "      <td>18,206,023.50</td>\n",
       "      <td>18,695,105.80</td>\n",
       "      <td>19,479,622.50</td>\n",
       "      <td>20,527,158.80</td>\n",
       "      <td>21,372,582.30</td>\n",
       "      <td>20,893,745.50</td>\n",
       "      <td>22,996,086.00</td>\n",
       "    </tr>\n",
       "  </tbody>\n",
       "</table>\n",
       "<p>1 rows × 74 columns</p>\n",
       "</div>"
      ],
      "text/plain": [
       "         country     scale   year_1950   year_1951   year_1952   year_1953  \\\n",
       "0  United States  Millions  299,827.30  346,913.30  367,340.80  389,217.50   \n",
       "\n",
       "    year_1954   year_1955   year_1956   year_1957  ...      year_2012  \\\n",
       "0  390,549.00  425,479.50  449,352.50  474,039.50  ...  16,253,970.00   \n",
       "\n",
       "       year_2013      year_2014      year_2015      year_2016      year_2017  \\\n",
       "0  16,843,195.80  17,550,687.80  18,206,023.50  18,695,105.80  19,479,622.50   \n",
       "\n",
       "       year_2018      year_2019      year_2020      year_2021  \n",
       "0  20,527,158.80  21,372,582.30  20,893,745.50  22,996,086.00  \n",
       "\n",
       "[1 rows x 74 columns]"
      ]
     },
     "execution_count": 229,
     "metadata": {},
     "output_type": "execute_result"
    }
   ],
   "source": [
    "cleaned_df"
   ]
  },
  {
   "cell_type": "code",
   "execution_count": 178,
   "id": "f9a19b2b",
   "metadata": {},
   "outputs": [],
   "source": [
    "row = cleaned_df.loc[0:0].values.tolist()[0]\n",
    "for i, entry in enumerate(row):\n",
    "    if i>=2:\n",
    "        row[i] = float(row[i].replace(',', ''))"
   ]
  },
  {
   "cell_type": "code",
   "execution_count": 254,
   "id": "f4795d22",
   "metadata": {},
   "outputs": [
    {
     "data": {
      "text/plain": [
       "['United States',\n",
       " 'Millions',\n",
       " 299827.3,\n",
       " 346913.3,\n",
       " 367340.8,\n",
       " 389217.5,\n",
       " 390549.0,\n",
       " 425479.5,\n",
       " 449352.5,\n",
       " 474039.5,\n",
       " 481228.5,\n",
       " 521654.3,\n",
       " 542382.3,\n",
       " 562209.8,\n",
       " 603921.5,\n",
       " 637451.5,\n",
       " 684461.5,\n",
       " 742290.3,\n",
       " 813413.8,\n",
       " 859956.3,\n",
       " 940646.5,\n",
       " 1017615.0,\n",
       " 1073310.5,\n",
       " 1164849.8,\n",
       " 1279112.0,\n",
       " 1425376.0,\n",
       " 1545242.5,\n",
       " 1684905.0,\n",
       " 1873412.5,\n",
       " 2081825.0,\n",
       " 2351598.8,\n",
       " 2627326.3,\n",
       " 2857308.5,\n",
       " 3207041.3,\n",
       " 3343789.3,\n",
       " 3634036.5,\n",
       " 4037614.0,\n",
       " 4338980.5,\n",
       " 4579632.5,\n",
       " 4855216.3,\n",
       " 5236438.0,\n",
       " 5641579.5,\n",
       " 5963144.5,\n",
       " 6158129.3,\n",
       " 6520327.3,\n",
       " 6858558.5,\n",
       " 7287236.5,\n",
       " 7639749.3,\n",
       " 8073121.8,\n",
       " 8577552.5,\n",
       " 9062816.8,\n",
       " 9631171.8,\n",
       " 10250952.0,\n",
       " 10581929.0,\n",
       " 10929108.3,\n",
       " 11456449.5,\n",
       " 12217195.8,\n",
       " 13039197.0,\n",
       " 13815583.0,\n",
       " 14474227.0,\n",
       " 14769861.5,\n",
       " 14478066.8,\n",
       " 15048970.0,\n",
       " 15599731.8,\n",
       " 16253970.0,\n",
       " 16843195.8,\n",
       " 17550687.8,\n",
       " 18206023.5,\n",
       " 18695105.8,\n",
       " 19479622.5,\n",
       " 20527158.8,\n",
       " 21372582.3,\n",
       " 20893745.5,\n",
       " 22996086.0]"
      ]
     },
     "execution_count": 254,
     "metadata": {},
     "output_type": "execute_result"
    }
   ],
   "source": [
    "row"
   ]
  },
  {
   "cell_type": "code",
   "execution_count": 182,
   "id": "4d176713",
   "metadata": {},
   "outputs": [],
   "source": [
    "# Connect to MySQL database"
   ]
  },
  {
   "cell_type": "code",
   "execution_count": 260,
   "id": "6e8afb16",
   "metadata": {},
   "outputs": [],
   "source": [
    "mysql_connection = pymysql.connect(host='localhost',\n",
    "                                   user='root',\n",
    "                                   password='root',\n",
    "                                   db='macro_data',\n",
    "                                   cursorclass=pymysql.cursors.DictCursor)"
   ]
  },
  {
   "cell_type": "code",
   "execution_count": 261,
   "id": "d56f64ac",
   "metadata": {},
   "outputs": [],
   "source": [
    "table_name = 'country_annual_gdp'"
   ]
  },
  {
   "cell_type": "code",
   "execution_count": 253,
   "id": "53264a90",
   "metadata": {},
   "outputs": [],
   "source": [
    "with mysql_connection:\n",
    "    with mysql_connection.cursor() as cursor:\n",
    "        \n",
    "        create_statement = 'CREATE TABLE ' + table_name + '('\n",
    "        i = 0\n",
    "\n",
    "        while i < len(column_names) - 1:\n",
    "            create_statement = create_statement + column_names[i] + ' DECIMAL(18,2), '       \n",
    "            i = i + 1\n",
    "\n",
    "        create_statement = create_statement + column_names[i] + ' DECIMAL(18,2) )'\n",
    "\n",
    "            \n",
    "        cursor.execute(create_statement)\n",
    "        "
   ]
  },
  {
   "cell_type": "code",
   "execution_count": 256,
   "id": "cce6f97e",
   "metadata": {},
   "outputs": [],
   "source": [
    "# create_statement"
   ]
  },
  {
   "cell_type": "code",
   "execution_count": 237,
   "id": "91189ed1",
   "metadata": {},
   "outputs": [],
   "source": [
    "# column_names"
   ]
  },
  {
   "cell_type": "code",
   "execution_count": null,
   "id": "9dea5ea0",
   "metadata": {},
   "outputs": [],
   "source": [
    "# Changed first two column types with SQL to VARCHAR"
   ]
  },
  {
   "cell_type": "code",
   "execution_count": 262,
   "id": "94dad8df",
   "metadata": {},
   "outputs": [],
   "source": [
    "with mysql_connection:\n",
    "    with mysql_connection.cursor() as cursor:\n",
    "        \n",
    "        insert_statement = 'INSERT INTO ' + table_name + '('\n",
    "\n",
    "        i = 0\n",
    "\n",
    "        while i < len(column_names) - 1:\n",
    "\n",
    "            insert_statement = insert_statement + column_names[i] +', '\n",
    "            i=i+1\n",
    "\n",
    "        insert_statement = insert_statement + column_names[i] +')'\n",
    "        # print(insert_statement)\n",
    "\n",
    "        #         cursor.execute(create_statement)\n",
    "\n",
    "        insert_statement = insert_statement + \" VALUES (\"\n",
    "\n",
    "        for i in range(74):\n",
    "            insert_statement = insert_statement + \"%s,\"\n",
    "\n",
    "        insert_statement = insert_statement[:-1]\n",
    "        insert_statement = insert_statement + ')'\n",
    "        \n",
    "        cursor.execute(insert_statement, row)\n",
    "        mysql_connection.commit()\n",
    "        \n",
    "        # print(insert_statement)\n"
   ]
  },
  {
   "cell_type": "code",
   "execution_count": null,
   "id": "7a573967",
   "metadata": {},
   "outputs": [],
   "source": []
  },
  {
   "cell_type": "code",
   "execution_count": null,
   "id": "bfe05532",
   "metadata": {},
   "outputs": [],
   "source": []
  },
  {
   "cell_type": "code",
   "execution_count": null,
   "id": "23bd1974",
   "metadata": {},
   "outputs": [],
   "source": []
  },
  {
   "cell_type": "code",
   "execution_count": null,
   "id": "6935c42d",
   "metadata": {},
   "outputs": [],
   "source": []
  },
  {
   "cell_type": "code",
   "execution_count": null,
   "id": "3d0083e9",
   "metadata": {},
   "outputs": [],
   "source": []
  },
  {
   "cell_type": "code",
   "execution_count": null,
   "id": "3e476786",
   "metadata": {},
   "outputs": [],
   "source": []
  },
  {
   "cell_type": "code",
   "execution_count": null,
   "id": "e9c3bb32",
   "metadata": {},
   "outputs": [],
   "source": []
  },
  {
   "cell_type": "code",
   "execution_count": null,
   "id": "0f1932fe",
   "metadata": {},
   "outputs": [],
   "source": []
  },
  {
   "cell_type": "code",
   "execution_count": null,
   "id": "bcbe3c13",
   "metadata": {},
   "outputs": [],
   "source": []
  },
  {
   "cell_type": "code",
   "execution_count": null,
   "id": "1f59fb2f",
   "metadata": {},
   "outputs": [],
   "source": []
  },
  {
   "cell_type": "code",
   "execution_count": null,
   "id": "6d9ebea6",
   "metadata": {},
   "outputs": [],
   "source": []
  },
  {
   "cell_type": "code",
   "execution_count": null,
   "id": "9493fc7b",
   "metadata": {},
   "outputs": [],
   "source": []
  }
 ],
 "metadata": {
  "kernelspec": {
   "display_name": "Python 3 (ipykernel)",
   "language": "python",
   "name": "python3"
  },
  "language_info": {
   "codemirror_mode": {
    "name": "ipython",
    "version": 3
   },
   "file_extension": ".py",
   "mimetype": "text/x-python",
   "name": "python",
   "nbconvert_exporter": "python",
   "pygments_lexer": "ipython3",
   "version": "3.9.12"
  }
 },
 "nbformat": 4,
 "nbformat_minor": 5
}
