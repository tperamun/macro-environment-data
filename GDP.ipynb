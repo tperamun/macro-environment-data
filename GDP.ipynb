{
 "cells": [
  {
   "cell_type": "code",
   "execution_count": null,
   "id": "daba3d0c",
   "metadata": {},
   "outputs": [],
   "source": [
    "pip install --upgrade google-api-python-client"
   ]
  },
  {
   "cell_type": "code",
   "execution_count": null,
   "id": "5a7d5ad4",
   "metadata": {},
   "outputs": [],
   "source": [
    "pip install --upgrade google-auth-httplib2"
   ]
  },
  {
   "cell_type": "code",
   "execution_count": null,
   "id": "905f3cbd",
   "metadata": {},
   "outputs": [],
   "source": [
    "pip install --upgrade google-auth-oauthlib"
   ]
  },
  {
   "cell_type": "code",
   "execution_count": null,
   "id": "6126013b",
   "metadata": {},
   "outputs": [],
   "source": [
    "pip install gspread"
   ]
  },
  {
   "cell_type": "code",
   "execution_count": null,
   "id": "bd01791b",
   "metadata": {},
   "outputs": [],
   "source": [
    "pip install pandas"
   ]
  },
  {
   "cell_type": "code",
   "execution_count": null,
   "id": "e6d3d1b6",
   "metadata": {},
   "outputs": [],
   "source": [
    "pip install PyMySQL"
   ]
  },
  {
   "cell_type": "code",
   "execution_count": null,
   "id": "72075608",
   "metadata": {},
   "outputs": [],
   "source": [
    "mkdir ~/.config/gspread"
   ]
  },
  {
   "cell_type": "code",
   "execution_count": null,
   "id": "de5082d4",
   "metadata": {},
   "outputs": [],
   "source": []
  },
  {
   "cell_type": "code",
   "execution_count": null,
   "id": "437dcb9a",
   "metadata": {},
   "outputs": [],
   "source": [
    "mv ~/Downloads/instant-avatar-256201-0dd726aa3282.json ~/.config/gspread/service_account.json"
   ]
  },
  {
   "cell_type": "code",
   "execution_count": 2,
   "id": "0322d9e0",
   "metadata": {},
   "outputs": [],
   "source": [
    "import gspread\n",
    "import pandas as pd"
   ]
  },
  {
   "cell_type": "code",
   "execution_count": 17,
   "id": "289116e8",
   "metadata": {},
   "outputs": [],
   "source": [
    "import pymysql.cursors"
   ]
  },
  {
   "cell_type": "code",
   "execution_count": 192,
   "id": "7456579f",
   "metadata": {},
   "outputs": [],
   "source": [
    "service_account = gspread.service_account(filename=\"/Users/timal/.config/gspread/service_account.json\")"
   ]
  },
  {
   "cell_type": "code",
   "execution_count": 193,
   "id": "5d1ca442",
   "metadata": {
    "scrolled": true
   },
   "outputs": [],
   "source": [
    "sheet = service_account.open(\"Annual_GDP\")"
   ]
  },
  {
   "cell_type": "code",
   "execution_count": 194,
   "id": "f57806b7",
   "metadata": {},
   "outputs": [],
   "source": [
    "work_sheet = sheet.worksheet(\"Annual\")"
   ]
  },
  {
   "cell_type": "code",
   "execution_count": 196,
   "id": "a7a4e2c1",
   "metadata": {},
   "outputs": [],
   "source": [
    "all_values = work_sheet.get_all_values()"
   ]
  },
  {
   "cell_type": "code",
   "execution_count": 197,
   "id": "94477c84",
   "metadata": {},
   "outputs": [],
   "source": [
    "df = pd.DataFrame(all_values)"
   ]
  },
  {
   "cell_type": "code",
   "execution_count": 198,
   "id": "a7e922a7",
   "metadata": {},
   "outputs": [],
   "source": [
    "column_names = df.loc[6:6:].values.tolist()[0]"
   ]
  },
  {
   "cell_type": "code",
   "execution_count": 199,
   "id": "0b057906",
   "metadata": {},
   "outputs": [
    {
     "data": {
      "text/plain": [
       "'Base Year'"
      ]
     },
     "execution_count": 199,
     "metadata": {},
     "output_type": "execute_result"
    }
   ],
   "source": [
    "column_names.pop(0) # remmove empty column\n",
    "column_names.pop(2) # remove 'Base Year' field as it is empty"
   ]
  },
  {
   "cell_type": "code",
   "execution_count": 200,
   "id": "e92ad1fd",
   "metadata": {},
   "outputs": [
    {
     "ename": "IndexError",
     "evalue": "list index out of range",
     "output_type": "error",
     "traceback": [
      "\u001b[0;31m---------------------------------------------------------------------------\u001b[0m",
      "\u001b[0;31mIndexError\u001b[0m                                Traceback (most recent call last)",
      "Input \u001b[0;32mIn [200]\u001b[0m, in \u001b[0;36m<cell line: 4>\u001b[0;34m()\u001b[0m\n\u001b[1;32m      2\u001b[0m prefix \u001b[38;5;241m=\u001b[39m \u001b[38;5;124m'\u001b[39m\u001b[38;5;124myear_\u001b[39m\u001b[38;5;124m'\u001b[39m\n\u001b[1;32m      4\u001b[0m \u001b[38;5;28;01mfor\u001b[39;00m i, column \u001b[38;5;129;01min\u001b[39;00m \u001b[38;5;28menumerate\u001b[39m(column_names, start\u001b[38;5;241m=\u001b[39m\u001b[38;5;241m2\u001b[39m):\n\u001b[0;32m----> 5\u001b[0m     column_names[i] \u001b[38;5;241m=\u001b[39m prefix \u001b[38;5;241m+\u001b[39m \u001b[43mcolumn_names\u001b[49m\u001b[43m[\u001b[49m\u001b[43mi\u001b[49m\u001b[43m]\u001b[49m\n",
      "\u001b[0;31mIndexError\u001b[0m: list index out of range"
     ]
    }
   ],
   "source": [
    "# column_names\n",
    "prefix = 'year_'\n",
    "\n",
    "for i, column in enumerate(column_names, start=2):\n",
    "    column_names[i] = prefix + column_names[i]\n",
    "    "
   ]
  },
  {
   "cell_type": "code",
   "execution_count": 221,
   "id": "c136cb09",
   "metadata": {},
   "outputs": [
    {
     "data": {
      "text/plain": [
       "['country',\n",
       " 'scale',\n",
       " 'year_1950',\n",
       " 'year_1951',\n",
       " 'year_1952',\n",
       " 'year_1953',\n",
       " 'year_1954',\n",
       " 'year_1955',\n",
       " 'year_1956',\n",
       " 'year_1957',\n",
       " 'year_1958',\n",
       " 'year_1959',\n",
       " 'year_1960',\n",
       " 'year_1961',\n",
       " 'year_1962',\n",
       " 'year_1963',\n",
       " 'year_1964',\n",
       " 'year_1965',\n",
       " 'year_1966',\n",
       " 'year_1967',\n",
       " 'year_1968',\n",
       " 'year_1969',\n",
       " 'year_1970',\n",
       " 'year_1971',\n",
       " 'year_1972',\n",
       " 'year_1973',\n",
       " 'year_1974',\n",
       " 'year_1975',\n",
       " 'year_1976',\n",
       " 'year_1977',\n",
       " 'year_1978',\n",
       " 'year_1979',\n",
       " 'year_1980',\n",
       " 'year_1981',\n",
       " 'year_1982',\n",
       " 'year_1983',\n",
       " 'year_1984',\n",
       " 'year_1985',\n",
       " 'year_1986',\n",
       " 'year_1987',\n",
       " 'year_1988',\n",
       " 'year_1989',\n",
       " 'year_1990',\n",
       " 'year_1991',\n",
       " 'year_1992',\n",
       " 'year_1993',\n",
       " 'year_1994',\n",
       " 'year_1995',\n",
       " 'year_1996',\n",
       " 'year_1997',\n",
       " 'year_1998',\n",
       " 'year_1999',\n",
       " 'year_2000',\n",
       " 'year_2001',\n",
       " 'year_2002',\n",
       " 'year_2003',\n",
       " 'year_2004',\n",
       " 'year_2005',\n",
       " 'year_2006',\n",
       " 'year_2007',\n",
       " 'year_2008',\n",
       " 'year_2009',\n",
       " 'year_2010',\n",
       " 'year_2011',\n",
       " 'year_2012',\n",
       " 'year_2013',\n",
       " 'year_2014',\n",
       " 'year_2015',\n",
       " 'year_2016',\n",
       " 'year_2017',\n",
       " 'year_2018',\n",
       " 'year_2019',\n",
       " 'year_2020',\n",
       " 'year_2021']"
      ]
     },
     "execution_count": 221,
     "metadata": {},
     "output_type": "execute_result"
    }
   ],
   "source": [
    "column_names[0] = 'country'\n",
    "column_names[1] = 'scale'\n",
    "column_names"
   ]
  },
  {
   "cell_type": "code",
   "execution_count": 222,
   "id": "ee2e7483",
   "metadata": {},
   "outputs": [
    {
     "data": {
      "text/plain": [
       "''"
      ]
     },
     "execution_count": 222,
     "metadata": {},
     "output_type": "execute_result"
    }
   ],
   "source": [
    "us_annual_gdp = df.loc[196:196:].values.tolist()[0]\n",
    "us_annual_gdp.pop(0) # remove empty first value"
   ]
  },
  {
   "cell_type": "code",
   "execution_count": 223,
   "id": "940e6049",
   "metadata": {},
   "outputs": [
    {
     "data": {
      "text/plain": [
       "''"
      ]
     },
     "execution_count": 223,
     "metadata": {},
     "output_type": "execute_result"
    }
   ],
   "source": [
    "us_annual_gdp.pop(2) #remove empty 'Base Year' value"
   ]
  },
  {
   "cell_type": "code",
   "execution_count": 224,
   "id": "0f6c163a",
   "metadata": {},
   "outputs": [
    {
     "data": {
      "text/plain": [
       "74"
      ]
     },
     "execution_count": 224,
     "metadata": {},
     "output_type": "execute_result"
    }
   ],
   "source": [
    "len(column_names)"
   ]
  },
  {
   "cell_type": "code",
   "execution_count": 238,
   "id": "ab35f0be",
   "metadata": {},
   "outputs": [],
   "source": [
    "# column_datatypes= ['VARCHAR(80)] * 74"
   ]
  },
  {
   "cell_type": "code",
   "execution_count": 240,
   "id": "31a1b409",
   "metadata": {},
   "outputs": [],
   "source": [
    "# column_datatypes"
   ]
  },
  {
   "cell_type": "code",
   "execution_count": null,
   "id": "5372053b",
   "metadata": {},
   "outputs": [],
   "source": []
  },
  {
   "cell_type": "code",
   "execution_count": 226,
   "id": "c167c467",
   "metadata": {},
   "outputs": [],
   "source": [
    "cleaned_df = pd.DataFrame(columns=column_names)"
   ]
  },
  {
   "cell_type": "code",
   "execution_count": 227,
   "id": "f4e48ffe",
   "metadata": {},
   "outputs": [],
   "source": [
    "cleaned_df.loc[len(cleaned_df)] = us_annual_gdp"
   ]
  },
  {
   "cell_type": "code",
   "execution_count": 228,
   "id": "fecd7edb",
   "metadata": {},
   "outputs": [
    {
     "data": {
      "text/html": [
       "<div>\n",
       "<style scoped>\n",
       "    .dataframe tbody tr th:only-of-type {\n",
       "        vertical-align: middle;\n",
       "    }\n",
       "\n",
       "    .dataframe tbody tr th {\n",
       "        vertical-align: top;\n",
       "    }\n",
       "\n",
       "    .dataframe thead th {\n",
       "        text-align: right;\n",
       "    }\n",
       "</style>\n",
       "<table border=\"1\" class=\"dataframe\">\n",
       "  <thead>\n",
       "    <tr style=\"text-align: right;\">\n",
       "      <th></th>\n",
       "      <th>country</th>\n",
       "      <th>scale</th>\n",
       "      <th>year_1950</th>\n",
       "      <th>year_1951</th>\n",
       "      <th>year_1952</th>\n",
       "      <th>year_1953</th>\n",
       "      <th>year_1954</th>\n",
       "      <th>year_1955</th>\n",
       "      <th>year_1956</th>\n",
       "      <th>year_1957</th>\n",
       "      <th>...</th>\n",
       "      <th>year_2012</th>\n",
       "      <th>year_2013</th>\n",
       "      <th>year_2014</th>\n",
       "      <th>year_2015</th>\n",
       "      <th>year_2016</th>\n",
       "      <th>year_2017</th>\n",
       "      <th>year_2018</th>\n",
       "      <th>year_2019</th>\n",
       "      <th>year_2020</th>\n",
       "      <th>year_2021</th>\n",
       "    </tr>\n",
       "  </thead>\n",
       "  <tbody>\n",
       "  </tbody>\n",
       "</table>\n",
       "<p>0 rows × 74 columns</p>\n",
       "</div>"
      ],
      "text/plain": [
       "Empty DataFrame\n",
       "Columns: [country, scale, year_1950, year_1951, year_1952, year_1953, year_1954, year_1955, year_1956, year_1957, year_1958, year_1959, year_1960, year_1961, year_1962, year_1963, year_1964, year_1965, year_1966, year_1967, year_1968, year_1969, year_1970, year_1971, year_1972, year_1973, year_1974, year_1975, year_1976, year_1977, year_1978, year_1979, year_1980, year_1981, year_1982, year_1983, year_1984, year_1985, year_1986, year_1987, year_1988, year_1989, year_1990, year_1991, year_1992, year_1993, year_1994, year_1995, year_1996, year_1997, year_1998, year_1999, year_2000, year_2001, year_2002, year_2003, year_2004, year_2005, year_2006, year_2007, year_2008, year_2009, year_2010, year_2011, year_2012, year_2013, year_2014, year_2015, year_2016, year_2017, year_2018, year_2019, year_2020, year_2021]\n",
       "Index: []\n",
       "\n",
       "[0 rows x 74 columns]"
      ]
     },
     "execution_count": 228,
     "metadata": {},
     "output_type": "execute_result"
    }
   ],
   "source": [
    "cleaned_df.drop(cleaned_df.index[0])"
   ]
  },
  {
   "cell_type": "code",
   "execution_count": 229,
   "id": "988e7960",
   "metadata": {},
   "outputs": [
    {
     "data": {
      "text/html": [
       "<div>\n",
       "<style scoped>\n",
       "    .dataframe tbody tr th:only-of-type {\n",
       "        vertical-align: middle;\n",
       "    }\n",
       "\n",
       "    .dataframe tbody tr th {\n",
       "        vertical-align: top;\n",
       "    }\n",
       "\n",
       "    .dataframe thead th {\n",
       "        text-align: right;\n",
       "    }\n",
       "</style>\n",
       "<table border=\"1\" class=\"dataframe\">\n",
       "  <thead>\n",
       "    <tr style=\"text-align: right;\">\n",
       "      <th></th>\n",
       "      <th>country</th>\n",
       "      <th>scale</th>\n",
       "      <th>year_1950</th>\n",
       "      <th>year_1951</th>\n",
       "      <th>year_1952</th>\n",
       "      <th>year_1953</th>\n",
       "      <th>year_1954</th>\n",
       "      <th>year_1955</th>\n",
       "      <th>year_1956</th>\n",
       "      <th>year_1957</th>\n",
       "      <th>...</th>\n",
       "      <th>year_2012</th>\n",
       "      <th>year_2013</th>\n",
       "      <th>year_2014</th>\n",
       "      <th>year_2015</th>\n",
       "      <th>year_2016</th>\n",
       "      <th>year_2017</th>\n",
       "      <th>year_2018</th>\n",
       "      <th>year_2019</th>\n",
       "      <th>year_2020</th>\n",
       "      <th>year_2021</th>\n",
       "    </tr>\n",
       "  </thead>\n",
       "  <tbody>\n",
       "    <tr>\n",
       "      <th>0</th>\n",
       "      <td>United States</td>\n",
       "      <td>Millions</td>\n",
       "      <td>299,827.30</td>\n",
       "      <td>346,913.30</td>\n",
       "      <td>367,340.80</td>\n",
       "      <td>389,217.50</td>\n",
       "      <td>390,549.00</td>\n",
       "      <td>425,479.50</td>\n",
       "      <td>449,352.50</td>\n",
       "      <td>474,039.50</td>\n",
       "      <td>...</td>\n",
       "      <td>16,253,970.00</td>\n",
       "      <td>16,843,195.80</td>\n",
       "      <td>17,550,687.80</td>\n",
       "      <td>18,206,023.50</td>\n",
       "      <td>18,695,105.80</td>\n",
       "      <td>19,479,622.50</td>\n",
       "      <td>20,527,158.80</td>\n",
       "      <td>21,372,582.30</td>\n",
       "      <td>20,893,745.50</td>\n",
       "      <td>22,996,086.00</td>\n",
       "    </tr>\n",
       "  </tbody>\n",
       "</table>\n",
       "<p>1 rows × 74 columns</p>\n",
       "</div>"
      ],
      "text/plain": [
       "         country     scale   year_1950   year_1951   year_1952   year_1953  \\\n",
       "0  United States  Millions  299,827.30  346,913.30  367,340.80  389,217.50   \n",
       "\n",
       "    year_1954   year_1955   year_1956   year_1957  ...      year_2012  \\\n",
       "0  390,549.00  425,479.50  449,352.50  474,039.50  ...  16,253,970.00   \n",
       "\n",
       "       year_2013      year_2014      year_2015      year_2016      year_2017  \\\n",
       "0  16,843,195.80  17,550,687.80  18,206,023.50  18,695,105.80  19,479,622.50   \n",
       "\n",
       "       year_2018      year_2019      year_2020      year_2021  \n",
       "0  20,527,158.80  21,372,582.30  20,893,745.50  22,996,086.00  \n",
       "\n",
       "[1 rows x 74 columns]"
      ]
     },
     "execution_count": 229,
     "metadata": {},
     "output_type": "execute_result"
    }
   ],
   "source": [
    "cleaned_df"
   ]
  },
  {
   "cell_type": "code",
   "execution_count": 178,
   "id": "eaada603",
   "metadata": {},
   "outputs": [],
   "source": [
    "row = cleaned_df.loc[0:0].values.tolist()[0]\n",
    "for i, entry in enumerate(row):\n",
    "    if i>=2:\n",
    "        row[i] = float(row[i].replace(',', ''))"
   ]
  },
  {
   "cell_type": "code",
   "execution_count": 254,
   "id": "0a523eda",
   "metadata": {},
   "outputs": [
    {
     "data": {
      "text/plain": [
       "['United States',\n",
       " 'Millions',\n",
       " 299827.3,\n",
       " 346913.3,\n",
       " 367340.8,\n",
       " 389217.5,\n",
       " 390549.0,\n",
       " 425479.5,\n",
       " 449352.5,\n",
       " 474039.5,\n",
       " 481228.5,\n",
       " 521654.3,\n",
       " 542382.3,\n",
       " 562209.8,\n",
       " 603921.5,\n",
       " 637451.5,\n",
       " 684461.5,\n",
       " 742290.3,\n",
       " 813413.8,\n",
       " 859956.3,\n",
       " 940646.5,\n",
       " 1017615.0,\n",
       " 1073310.5,\n",
       " 1164849.8,\n",
       " 1279112.0,\n",
       " 1425376.0,\n",
       " 1545242.5,\n",
       " 1684905.0,\n",
       " 1873412.5,\n",
       " 2081825.0,\n",
       " 2351598.8,\n",
       " 2627326.3,\n",
       " 2857308.5,\n",
       " 3207041.3,\n",
       " 3343789.3,\n",
       " 3634036.5,\n",
       " 4037614.0,\n",
       " 4338980.5,\n",
       " 4579632.5,\n",
       " 4855216.3,\n",
       " 5236438.0,\n",
       " 5641579.5,\n",
       " 5963144.5,\n",
       " 6158129.3,\n",
       " 6520327.3,\n",
       " 6858558.5,\n",
       " 7287236.5,\n",
       " 7639749.3,\n",
       " 8073121.8,\n",
       " 8577552.5,\n",
       " 9062816.8,\n",
       " 9631171.8,\n",
       " 10250952.0,\n",
       " 10581929.0,\n",
       " 10929108.3,\n",
       " 11456449.5,\n",
       " 12217195.8,\n",
       " 13039197.0,\n",
       " 13815583.0,\n",
       " 14474227.0,\n",
       " 14769861.5,\n",
       " 14478066.8,\n",
       " 15048970.0,\n",
       " 15599731.8,\n",
       " 16253970.0,\n",
       " 16843195.8,\n",
       " 17550687.8,\n",
       " 18206023.5,\n",
       " 18695105.8,\n",
       " 19479622.5,\n",
       " 20527158.8,\n",
       " 21372582.3,\n",
       " 20893745.5,\n",
       " 22996086.0]"
      ]
     },
     "execution_count": 254,
     "metadata": {},
     "output_type": "execute_result"
    }
   ],
   "source": [
    "row"
   ]
  },
  {
   "cell_type": "code",
   "execution_count": 180,
   "id": "3ed98795",
   "metadata": {},
   "outputs": [
    {
     "data": {
      "text/plain": [
       "float"
      ]
     },
     "execution_count": 180,
     "metadata": {},
     "output_type": "execute_result"
    }
   ],
   "source": [
    "type(row[-1])"
   ]
  },
  {
   "cell_type": "code",
   "execution_count": 182,
   "id": "7e4ab77c",
   "metadata": {},
   "outputs": [],
   "source": [
    "# Connect to MySQL database"
   ]
  },
  {
   "cell_type": "code",
   "execution_count": 260,
   "id": "1b934295",
   "metadata": {},
   "outputs": [],
   "source": [
    "mysql_connection = pymysql.connect(host='localhost',\n",
    "                                   user='root',\n",
    "                                   password='root',\n",
    "                                   db='macro_data',\n",
    "                                   cursorclass=pymysql.cursors.DictCursor)"
   ]
  },
  {
   "cell_type": "code",
   "execution_count": 261,
   "id": "38f14e8e",
   "metadata": {},
   "outputs": [],
   "source": [
    "table_name = 'country_annual_gdp'"
   ]
  },
  {
   "cell_type": "code",
   "execution_count": 253,
   "id": "a14c83cb",
   "metadata": {},
   "outputs": [],
   "source": [
    "with mysql_connection:\n",
    "    with mysql_connection.cursor() as cursor:\n",
    "        \n",
    "        create_statement = 'CREATE TABLE ' + table_name + '('\n",
    "        i = 0\n",
    "\n",
    "        while i < len(column_names) - 1:\n",
    "            create_statement = create_statement + column_names[i] + ' DECIMAL(18,2), '       \n",
    "            i = i + 1\n",
    "\n",
    "        create_statement = create_statement + column_names[i] + ' DECIMAL(18,2) )'\n",
    "\n",
    "            \n",
    "        cursor.execute(create_statement)\n",
    "        "
   ]
  },
  {
   "cell_type": "code",
   "execution_count": 256,
   "id": "6d64bfc9",
   "metadata": {},
   "outputs": [],
   "source": [
    "# create_statement"
   ]
  },
  {
   "cell_type": "code",
   "execution_count": 237,
   "id": "519c9159",
   "metadata": {},
   "outputs": [],
   "source": [
    "# column_names"
   ]
  },
  {
   "cell_type": "code",
   "execution_count": null,
   "id": "a946128c",
   "metadata": {},
   "outputs": [],
   "source": []
  },
  {
   "cell_type": "code",
   "execution_count": 262,
   "id": "b5ef6686",
   "metadata": {},
   "outputs": [],
   "source": [
    "with mysql_connection:\n",
    "    with mysql_connection.cursor() as cursor:\n",
    "        \n",
    "        insert_statement = 'INSERT INTO ' + table_name + '('\n",
    "\n",
    "        i = 0\n",
    "\n",
    "        while i < len(column_names) - 1:\n",
    "\n",
    "            insert_statement = insert_statement + column_names[i] +', '\n",
    "            i=i+1\n",
    "\n",
    "        insert_statement = insert_statement + column_names[i] +')'\n",
    "        # print(insert_statement)\n",
    "\n",
    "        #         cursor.execute(create_statement)\n",
    "\n",
    "        insert_statement = insert_statement + \" VALUES (\"\n",
    "\n",
    "        for i in range(74):\n",
    "            insert_statement = insert_statement + \"%s,\"\n",
    "\n",
    "        insert_statement = insert_statement[:-1]\n",
    "        insert_statement = insert_statement + ')'\n",
    "        \n",
    "        cursor.execute(insert_statement, row)\n",
    "        mysql_connection.commit()\n",
    "        \n",
    "        # print(insert_statement)\n"
   ]
  },
  {
   "cell_type": "code",
   "execution_count": null,
   "id": "44ab37ef",
   "metadata": {},
   "outputs": [],
   "source": []
  },
  {
   "cell_type": "code",
   "execution_count": null,
   "id": "f5646706",
   "metadata": {},
   "outputs": [],
   "source": []
  },
  {
   "cell_type": "code",
   "execution_count": null,
   "id": "e475856d",
   "metadata": {},
   "outputs": [],
   "source": []
  },
  {
   "cell_type": "code",
   "execution_count": null,
   "id": "88480872",
   "metadata": {},
   "outputs": [],
   "source": []
  },
  {
   "cell_type": "code",
   "execution_count": null,
   "id": "8c9c544c",
   "metadata": {},
   "outputs": [],
   "source": []
  },
  {
   "cell_type": "code",
   "execution_count": null,
   "id": "5748bde8",
   "metadata": {},
   "outputs": [],
   "source": []
  },
  {
   "cell_type": "code",
   "execution_count": null,
   "id": "47c55c19",
   "metadata": {},
   "outputs": [],
   "source": []
  },
  {
   "cell_type": "code",
   "execution_count": null,
   "id": "8fb5c4cd",
   "metadata": {},
   "outputs": [],
   "source": []
  },
  {
   "cell_type": "code",
   "execution_count": 190,
   "id": "ffaeb4b2",
   "metadata": {},
   "outputs": [
    {
     "ename": "ProgrammingError",
     "evalue": "(1064, \"You have an error in your SQL syntax; check the manual that corresponds to your MySQL server version for the right syntax to use near 'CREAT TABLE country_annual_gdp(Country BIGINT(40), Scale BIGINT(40), year_1950 B' at line 1\")",
     "output_type": "error",
     "traceback": [
      "\u001b[0;31m---------------------------------------------------------------------------\u001b[0m",
      "\u001b[0;31mProgrammingError\u001b[0m                          Traceback (most recent call last)",
      "Input \u001b[0;32mIn [190]\u001b[0m, in \u001b[0;36m<cell line: 1>\u001b[0;34m()\u001b[0m\n\u001b[1;32m     13\u001b[0m         create_statement \u001b[38;5;241m=\u001b[39m create_statement \u001b[38;5;241m+\u001b[39m column_names[i] \u001b[38;5;241m+\u001b[39m \u001b[38;5;124m'\u001b[39m\u001b[38;5;124m \u001b[39m\u001b[38;5;124m'\u001b[39m \u001b[38;5;241m+\u001b[39m column_datatypes[i]\u001b[38;5;241m+\u001b[39m\u001b[38;5;124m'\u001b[39m\u001b[38;5;124m)\u001b[39m\u001b[38;5;124m'\u001b[39m\n\u001b[1;32m     14\u001b[0m \u001b[38;5;66;03m#         print(create_statement)\u001b[39;00m\n\u001b[0;32m---> 15\u001b[0m         \u001b[43mcursor\u001b[49m\u001b[38;5;241;43m.\u001b[39;49m\u001b[43mexecute\u001b[49m\u001b[43m(\u001b[49m\u001b[43mcreate_statement\u001b[49m\u001b[43m)\u001b[49m\n",
      "File \u001b[0;32m~/opt/anaconda3/lib/python3.9/site-packages/pymysql/cursors.py:148\u001b[0m, in \u001b[0;36mCursor.execute\u001b[0;34m(self, query, args)\u001b[0m\n\u001b[1;32m    144\u001b[0m     \u001b[38;5;28;01mpass\u001b[39;00m\n\u001b[1;32m    146\u001b[0m query \u001b[38;5;241m=\u001b[39m \u001b[38;5;28mself\u001b[39m\u001b[38;5;241m.\u001b[39mmogrify(query, args)\n\u001b[0;32m--> 148\u001b[0m result \u001b[38;5;241m=\u001b[39m \u001b[38;5;28;43mself\u001b[39;49m\u001b[38;5;241;43m.\u001b[39;49m\u001b[43m_query\u001b[49m\u001b[43m(\u001b[49m\u001b[43mquery\u001b[49m\u001b[43m)\u001b[49m\n\u001b[1;32m    149\u001b[0m \u001b[38;5;28mself\u001b[39m\u001b[38;5;241m.\u001b[39m_executed \u001b[38;5;241m=\u001b[39m query\n\u001b[1;32m    150\u001b[0m \u001b[38;5;28;01mreturn\u001b[39;00m result\n",
      "File \u001b[0;32m~/opt/anaconda3/lib/python3.9/site-packages/pymysql/cursors.py:310\u001b[0m, in \u001b[0;36mCursor._query\u001b[0;34m(self, q)\u001b[0m\n\u001b[1;32m    308\u001b[0m \u001b[38;5;28mself\u001b[39m\u001b[38;5;241m.\u001b[39m_last_executed \u001b[38;5;241m=\u001b[39m q\n\u001b[1;32m    309\u001b[0m \u001b[38;5;28mself\u001b[39m\u001b[38;5;241m.\u001b[39m_clear_result()\n\u001b[0;32m--> 310\u001b[0m \u001b[43mconn\u001b[49m\u001b[38;5;241;43m.\u001b[39;49m\u001b[43mquery\u001b[49m\u001b[43m(\u001b[49m\u001b[43mq\u001b[49m\u001b[43m)\u001b[49m\n\u001b[1;32m    311\u001b[0m \u001b[38;5;28mself\u001b[39m\u001b[38;5;241m.\u001b[39m_do_get_result()\n\u001b[1;32m    312\u001b[0m \u001b[38;5;28;01mreturn\u001b[39;00m \u001b[38;5;28mself\u001b[39m\u001b[38;5;241m.\u001b[39mrowcount\n",
      "File \u001b[0;32m~/opt/anaconda3/lib/python3.9/site-packages/pymysql/connections.py:548\u001b[0m, in \u001b[0;36mConnection.query\u001b[0;34m(self, sql, unbuffered)\u001b[0m\n\u001b[1;32m    546\u001b[0m     sql \u001b[38;5;241m=\u001b[39m sql\u001b[38;5;241m.\u001b[39mencode(\u001b[38;5;28mself\u001b[39m\u001b[38;5;241m.\u001b[39mencoding, \u001b[38;5;124m\"\u001b[39m\u001b[38;5;124msurrogateescape\u001b[39m\u001b[38;5;124m\"\u001b[39m)\n\u001b[1;32m    547\u001b[0m \u001b[38;5;28mself\u001b[39m\u001b[38;5;241m.\u001b[39m_execute_command(COMMAND\u001b[38;5;241m.\u001b[39mCOM_QUERY, sql)\n\u001b[0;32m--> 548\u001b[0m \u001b[38;5;28mself\u001b[39m\u001b[38;5;241m.\u001b[39m_affected_rows \u001b[38;5;241m=\u001b[39m \u001b[38;5;28;43mself\u001b[39;49m\u001b[38;5;241;43m.\u001b[39;49m\u001b[43m_read_query_result\u001b[49m\u001b[43m(\u001b[49m\u001b[43munbuffered\u001b[49m\u001b[38;5;241;43m=\u001b[39;49m\u001b[43munbuffered\u001b[49m\u001b[43m)\u001b[49m\n\u001b[1;32m    549\u001b[0m \u001b[38;5;28;01mreturn\u001b[39;00m \u001b[38;5;28mself\u001b[39m\u001b[38;5;241m.\u001b[39m_affected_rows\n",
      "File \u001b[0;32m~/opt/anaconda3/lib/python3.9/site-packages/pymysql/connections.py:775\u001b[0m, in \u001b[0;36mConnection._read_query_result\u001b[0;34m(self, unbuffered)\u001b[0m\n\u001b[1;32m    773\u001b[0m \u001b[38;5;28;01melse\u001b[39;00m:\n\u001b[1;32m    774\u001b[0m     result \u001b[38;5;241m=\u001b[39m MySQLResult(\u001b[38;5;28mself\u001b[39m)\n\u001b[0;32m--> 775\u001b[0m     \u001b[43mresult\u001b[49m\u001b[38;5;241;43m.\u001b[39;49m\u001b[43mread\u001b[49m\u001b[43m(\u001b[49m\u001b[43m)\u001b[49m\n\u001b[1;32m    776\u001b[0m \u001b[38;5;28mself\u001b[39m\u001b[38;5;241m.\u001b[39m_result \u001b[38;5;241m=\u001b[39m result\n\u001b[1;32m    777\u001b[0m \u001b[38;5;28;01mif\u001b[39;00m result\u001b[38;5;241m.\u001b[39mserver_status \u001b[38;5;129;01mis\u001b[39;00m \u001b[38;5;129;01mnot\u001b[39;00m \u001b[38;5;28;01mNone\u001b[39;00m:\n",
      "File \u001b[0;32m~/opt/anaconda3/lib/python3.9/site-packages/pymysql/connections.py:1156\u001b[0m, in \u001b[0;36mMySQLResult.read\u001b[0;34m(self)\u001b[0m\n\u001b[1;32m   1154\u001b[0m \u001b[38;5;28;01mdef\u001b[39;00m \u001b[38;5;21mread\u001b[39m(\u001b[38;5;28mself\u001b[39m):\n\u001b[1;32m   1155\u001b[0m     \u001b[38;5;28;01mtry\u001b[39;00m:\n\u001b[0;32m-> 1156\u001b[0m         first_packet \u001b[38;5;241m=\u001b[39m \u001b[38;5;28;43mself\u001b[39;49m\u001b[38;5;241;43m.\u001b[39;49m\u001b[43mconnection\u001b[49m\u001b[38;5;241;43m.\u001b[39;49m\u001b[43m_read_packet\u001b[49m\u001b[43m(\u001b[49m\u001b[43m)\u001b[49m\n\u001b[1;32m   1158\u001b[0m         \u001b[38;5;28;01mif\u001b[39;00m first_packet\u001b[38;5;241m.\u001b[39mis_ok_packet():\n\u001b[1;32m   1159\u001b[0m             \u001b[38;5;28mself\u001b[39m\u001b[38;5;241m.\u001b[39m_read_ok_packet(first_packet)\n",
      "File \u001b[0;32m~/opt/anaconda3/lib/python3.9/site-packages/pymysql/connections.py:725\u001b[0m, in \u001b[0;36mConnection._read_packet\u001b[0;34m(self, packet_type)\u001b[0m\n\u001b[1;32m    723\u001b[0m     \u001b[38;5;28;01mif\u001b[39;00m \u001b[38;5;28mself\u001b[39m\u001b[38;5;241m.\u001b[39m_result \u001b[38;5;129;01mis\u001b[39;00m \u001b[38;5;129;01mnot\u001b[39;00m \u001b[38;5;28;01mNone\u001b[39;00m \u001b[38;5;129;01mand\u001b[39;00m \u001b[38;5;28mself\u001b[39m\u001b[38;5;241m.\u001b[39m_result\u001b[38;5;241m.\u001b[39munbuffered_active \u001b[38;5;129;01mis\u001b[39;00m \u001b[38;5;28;01mTrue\u001b[39;00m:\n\u001b[1;32m    724\u001b[0m         \u001b[38;5;28mself\u001b[39m\u001b[38;5;241m.\u001b[39m_result\u001b[38;5;241m.\u001b[39munbuffered_active \u001b[38;5;241m=\u001b[39m \u001b[38;5;28;01mFalse\u001b[39;00m\n\u001b[0;32m--> 725\u001b[0m     \u001b[43mpacket\u001b[49m\u001b[38;5;241;43m.\u001b[39;49m\u001b[43mraise_for_error\u001b[49m\u001b[43m(\u001b[49m\u001b[43m)\u001b[49m\n\u001b[1;32m    726\u001b[0m \u001b[38;5;28;01mreturn\u001b[39;00m packet\n",
      "File \u001b[0;32m~/opt/anaconda3/lib/python3.9/site-packages/pymysql/protocol.py:221\u001b[0m, in \u001b[0;36mMysqlPacket.raise_for_error\u001b[0;34m(self)\u001b[0m\n\u001b[1;32m    219\u001b[0m \u001b[38;5;28;01mif\u001b[39;00m DEBUG:\n\u001b[1;32m    220\u001b[0m     \u001b[38;5;28mprint\u001b[39m(\u001b[38;5;124m\"\u001b[39m\u001b[38;5;124merrno =\u001b[39m\u001b[38;5;124m\"\u001b[39m, errno)\n\u001b[0;32m--> 221\u001b[0m \u001b[43merr\u001b[49m\u001b[38;5;241;43m.\u001b[39;49m\u001b[43mraise_mysql_exception\u001b[49m\u001b[43m(\u001b[49m\u001b[38;5;28;43mself\u001b[39;49m\u001b[38;5;241;43m.\u001b[39;49m\u001b[43m_data\u001b[49m\u001b[43m)\u001b[49m\n",
      "File \u001b[0;32m~/opt/anaconda3/lib/python3.9/site-packages/pymysql/err.py:143\u001b[0m, in \u001b[0;36mraise_mysql_exception\u001b[0;34m(data)\u001b[0m\n\u001b[1;32m    141\u001b[0m \u001b[38;5;28;01mif\u001b[39;00m errorclass \u001b[38;5;129;01mis\u001b[39;00m \u001b[38;5;28;01mNone\u001b[39;00m:\n\u001b[1;32m    142\u001b[0m     errorclass \u001b[38;5;241m=\u001b[39m InternalError \u001b[38;5;28;01mif\u001b[39;00m errno \u001b[38;5;241m<\u001b[39m \u001b[38;5;241m1000\u001b[39m \u001b[38;5;28;01melse\u001b[39;00m OperationalError\n\u001b[0;32m--> 143\u001b[0m \u001b[38;5;28;01mraise\u001b[39;00m errorclass(errno, errval)\n",
      "\u001b[0;31mProgrammingError\u001b[0m: (1064, \"You have an error in your SQL syntax; check the manual that corresponds to your MySQL server version for the right syntax to use near 'CREAT TABLE country_annual_gdp(Country BIGINT(40), Scale BIGINT(40), year_1950 B' at line 1\")"
     ]
    }
   ],
   "source": []
  },
  {
   "cell_type": "code",
   "execution_count": 191,
   "id": "ff440839",
   "metadata": {},
   "outputs": [
    {
     "name": "stdout",
     "output_type": "stream",
     "text": [
      "CREAT TABLE country_annual_gdp(Country BIGINT(40), Scale BIGINT(40), year_1950 BIGINT(40), year_1951 BIGINT(40), year_1952 BIGINT(40), year_1953 BIGINT(40), year_1954 BIGINT(40), year_1955 BIGINT(40), year_1956 BIGINT(40), year_1957 BIGINT(40), year_1958 BIGINT(40), year_1959 BIGINT(40), year_1960 BIGINT(40), year_1961 BIGINT(40), year_1962 BIGINT(40), year_1963 BIGINT(40), year_1964 BIGINT(40), year_1965 BIGINT(40), year_1966 BIGINT(40), year_1967 BIGINT(40), year_1968 BIGINT(40), year_1969 BIGINT(40), year_1970 BIGINT(40), year_1971 BIGINT(40), year_1972 BIGINT(40), year_1973 BIGINT(40), year_1974 BIGINT(40), year_1975 BIGINT(40), year_1976 BIGINT(40), year_1977 BIGINT(40), year_1978 BIGINT(40), year_1979 BIGINT(40), year_1980 BIGINT(40), year_1981 BIGINT(40), year_1982 BIGINT(40), year_1983 BIGINT(40), year_1984 BIGINT(40), year_1985 BIGINT(40), year_1986 BIGINT(40), year_1987 BIGINT(40), year_1988 BIGINT(40), year_1989 BIGINT(40), year_1990 BIGINT(40), year_1991 BIGINT(40), year_1992 BIGINT(40), year_1993 BIGINT(40), year_1994 BIGINT(40), year_1995 BIGINT(40), year_1996 BIGINT(40), year_1997 BIGINT(40), year_1998 BIGINT(40), year_1999 BIGINT(40), year_2000 BIGINT(40), year_2001 BIGINT(40), year_2002 BIGINT(40), year_2003 BIGINT(40), year_2004 BIGINT(40), year_2005 BIGINT(40), year_2006 BIGINT(40), year_2007 BIGINT(40), year_2008 BIGINT(40), year_2009 BIGINT(40), year_2010 BIGINT(40), year_2011 BIGINT(40), year_2012 BIGINT(40), year_2013 BIGINT(40), year_2014 BIGINT(40), year_2015 BIGINT(40), year_2016 BIGINT(40), year_2017 BIGINT(40), year_2018 BIGINT(40), year_2019 BIGINT(40), year_2020 BIGINT(40), year_2021 BIGINT(40))\n"
     ]
    }
   ],
   "source": [
    "print(create_statement)"
   ]
  },
  {
   "cell_type": "code",
   "execution_count": null,
   "id": "cda72786",
   "metadata": {},
   "outputs": [],
   "source": []
  },
  {
   "cell_type": "code",
   "execution_count": null,
   "id": "4eec0a02",
   "metadata": {},
   "outputs": [],
   "source": []
  }
 ],
 "metadata": {
  "kernelspec": {
   "display_name": "Python 3 (ipykernel)",
   "language": "python",
   "name": "python3"
  },
  "language_info": {
   "codemirror_mode": {
    "name": "ipython",
    "version": 3
   },
   "file_extension": ".py",
   "mimetype": "text/x-python",
   "name": "python",
   "nbconvert_exporter": "python",
   "pygments_lexer": "ipython3",
   "version": "3.9.12"
  }
 },
 "nbformat": 4,
 "nbformat_minor": 5
}
