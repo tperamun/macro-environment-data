{
 "cells": [
  {
   "cell_type": "code",
   "execution_count": 1,
   "id": "d884e36c",
   "metadata": {},
   "outputs": [],
   "source": [
    "import gspread\n",
    "import pandas as pd\n",
    "import pymysql.cursors"
   ]
  },
  {
   "cell_type": "code",
   "execution_count": 53,
   "id": "9b0aed22",
   "metadata": {},
   "outputs": [
    {
     "data": {
      "text/html": [
       "<div>\n",
       "<style scoped>\n",
       "    .dataframe tbody tr th:only-of-type {\n",
       "        vertical-align: middle;\n",
       "    }\n",
       "\n",
       "    .dataframe tbody tr th {\n",
       "        vertical-align: top;\n",
       "    }\n",
       "\n",
       "    .dataframe thead th {\n",
       "        text-align: right;\n",
       "    }\n",
       "</style>\n",
       "<table border=\"1\" class=\"dataframe\">\n",
       "  <thead>\n",
       "    <tr style=\"text-align: right;\">\n",
       "      <th></th>\n",
       "      <th>0</th>\n",
       "      <th>1</th>\n",
       "      <th>2</th>\n",
       "      <th>3</th>\n",
       "      <th>4</th>\n",
       "      <th>5</th>\n",
       "      <th>6</th>\n",
       "    </tr>\n",
       "  </thead>\n",
       "  <tbody>\n",
       "    <tr>\n",
       "      <th>0</th>\n",
       "      <td>Date</td>\n",
       "      <td>Open</td>\n",
       "      <td>High</td>\n",
       "      <td>Low</td>\n",
       "      <td>Close</td>\n",
       "      <td>Adj Close</td>\n",
       "      <td>Volume</td>\n",
       "    </tr>\n",
       "    <tr>\n",
       "      <th>1</th>\n",
       "      <td>2019-09-16</td>\n",
       "      <td>9.65</td>\n",
       "      <td>9.85</td>\n",
       "      <td>9.65</td>\n",
       "      <td>9.85</td>\n",
       "      <td>9.85</td>\n",
       "      <td>1700</td>\n",
       "    </tr>\n",
       "    <tr>\n",
       "      <th>2</th>\n",
       "      <td>2019-09-23</td>\n",
       "      <td>9.85</td>\n",
       "      <td>9.85</td>\n",
       "      <td>9.66</td>\n",
       "      <td>9.66</td>\n",
       "      <td>9.66</td>\n",
       "      <td>25800</td>\n",
       "    </tr>\n",
       "    <tr>\n",
       "      <th>3</th>\n",
       "      <td>2019-09-30</td>\n",
       "      <td>9.685</td>\n",
       "      <td>9.71</td>\n",
       "      <td>9.685</td>\n",
       "      <td>9.71</td>\n",
       "      <td>9.71</td>\n",
       "      <td>800</td>\n",
       "    </tr>\n",
       "    <tr>\n",
       "      <th>4</th>\n",
       "      <td>2019-10-07</td>\n",
       "      <td>9.68</td>\n",
       "      <td>9.7</td>\n",
       "      <td>9.63</td>\n",
       "      <td>9.7</td>\n",
       "      <td>9.7</td>\n",
       "      <td>767400</td>\n",
       "    </tr>\n",
       "    <tr>\n",
       "      <th>...</th>\n",
       "      <td>...</td>\n",
       "      <td>...</td>\n",
       "      <td>...</td>\n",
       "      <td>...</td>\n",
       "      <td>...</td>\n",
       "      <td>...</td>\n",
       "      <td>...</td>\n",
       "    </tr>\n",
       "    <tr>\n",
       "      <th>141</th>\n",
       "      <td>2022-05-23</td>\n",
       "      <td>10.92</td>\n",
       "      <td>13.49</td>\n",
       "      <td>10.21</td>\n",
       "      <td>13.45</td>\n",
       "      <td>13.45</td>\n",
       "      <td>47308000</td>\n",
       "    </tr>\n",
       "    <tr>\n",
       "      <th>142</th>\n",
       "      <td>2022-05-30</td>\n",
       "      <td>13.74</td>\n",
       "      <td>14.965</td>\n",
       "      <td>12.16</td>\n",
       "      <td>14.57</td>\n",
       "      <td>14.57</td>\n",
       "      <td>67589500</td>\n",
       "    </tr>\n",
       "    <tr>\n",
       "      <th>143</th>\n",
       "      <td>2022-06-06</td>\n",
       "      <td>14.92</td>\n",
       "      <td>16.16</td>\n",
       "      <td>14.31</td>\n",
       "      <td>14.39</td>\n",
       "      <td>14.39</td>\n",
       "      <td>55307800</td>\n",
       "    </tr>\n",
       "    <tr>\n",
       "      <th>144</th>\n",
       "      <td>2022-06-13</td>\n",
       "      <td>13.62</td>\n",
       "      <td>14.25</td>\n",
       "      <td>11.85</td>\n",
       "      <td>14.03</td>\n",
       "      <td>14.03</td>\n",
       "      <td>58502800</td>\n",
       "    </tr>\n",
       "    <tr>\n",
       "      <th>145</th>\n",
       "      <td>2022-06-20</td>\n",
       "      <td>14.32</td>\n",
       "      <td>15.07</td>\n",
       "      <td>13.27</td>\n",
       "      <td>14.25</td>\n",
       "      <td>14.25</td>\n",
       "      <td>16564000</td>\n",
       "    </tr>\n",
       "  </tbody>\n",
       "</table>\n",
       "<p>146 rows × 7 columns</p>\n",
       "</div>"
      ],
      "text/plain": [
       "              0      1       2      3      4          5         6\n",
       "0          Date   Open    High    Low  Close  Adj Close    Volume\n",
       "1    2019-09-16   9.65    9.85   9.65   9.85       9.85      1700\n",
       "2    2019-09-23   9.85    9.85   9.66   9.66       9.66     25800\n",
       "3    2019-09-30  9.685    9.71  9.685   9.71       9.71       800\n",
       "4    2019-10-07   9.68     9.7   9.63    9.7        9.7    767400\n",
       "..          ...    ...     ...    ...    ...        ...       ...\n",
       "141  2022-05-23  10.92   13.49  10.21  13.45      13.45  47308000\n",
       "142  2022-05-30  13.74  14.965  12.16  14.57      14.57  67589500\n",
       "143  2022-06-06  14.92   16.16  14.31  14.39      14.39  55307800\n",
       "144  2022-06-13  13.62   14.25  11.85  14.03      14.03  58502800\n",
       "145  2022-06-20  14.32   15.07  13.27  14.25      14.25  16564000\n",
       "\n",
       "[146 rows x 7 columns]"
      ]
     },
     "execution_count": 53,
     "metadata": {},
     "output_type": "execute_result"
    }
   ],
   "source": [
    "service_account = gspread.service_account(filename=\"/Users/timal/.config/gspread/service_account.json\")\n",
    "sheet = service_account.open(\"CHPT\")\n",
    "work_sheet = sheet.worksheet(\"CHPT\")\n",
    "all_values = work_sheet.get_all_values()\n",
    "df = pd.DataFrame(all_values)\n",
    "df"
   ]
  },
  {
   "cell_type": "code",
   "execution_count": 54,
   "id": "fab654ce",
   "metadata": {},
   "outputs": [],
   "source": [
    "new_columns = df.iloc[0]\n",
    "df = df[1:]\n",
    "df.columns = new_columns"
   ]
  },
  {
   "cell_type": "code",
   "execution_count": 55,
   "id": "abc07dbd",
   "metadata": {},
   "outputs": [],
   "source": [
    "type(df)\n",
    "df.columns = [c.lower().replace(' ', '_') for c in df.columns]"
   ]
  },
  {
   "cell_type": "code",
   "execution_count": 56,
   "id": "88308007",
   "metadata": {},
   "outputs": [
    {
     "data": {
      "text/plain": [
       "pandas.core.frame.DataFrame"
      ]
     },
     "execution_count": 56,
     "metadata": {},
     "output_type": "execute_result"
    }
   ],
   "source": [
    "type(df)"
   ]
  },
  {
   "cell_type": "code",
   "execution_count": 57,
   "id": "1bcb7080",
   "metadata": {},
   "outputs": [
    {
     "name": "stderr",
     "output_type": "stream",
     "text": [
      "/var/folders/ly/b0d5ymx54rd755r8d506sd000000gn/T/ipykernel_60253/1187042892.py:1: SettingWithCopyWarning: \n",
      "A value is trying to be set on a copy of a slice from a DataFrame.\n",
      "Try using .loc[row_indexer,col_indexer] = value instead\n",
      "\n",
      "See the caveats in the documentation: https://pandas.pydata.org/pandas-docs/stable/user_guide/indexing.html#returning-a-view-versus-a-copy\n",
      "  df[['adj_close']] = df[['adj_close']].apply(pd.to_numeric)\n"
     ]
    }
   ],
   "source": [
    "df[['adj_close']] = df[['adj_close']].apply(pd.to_numeric)"
   ]
  },
  {
   "cell_type": "code",
   "execution_count": 58,
   "id": "5542777e",
   "metadata": {},
   "outputs": [
    {
     "name": "stderr",
     "output_type": "stream",
     "text": [
      "/var/folders/ly/b0d5ymx54rd755r8d506sd000000gn/T/ipykernel_60253/3078156527.py:1: SettingWithCopyWarning: \n",
      "A value is trying to be set on a copy of a slice from a DataFrame.\n",
      "Try using .loc[row_indexer,col_indexer] = value instead\n",
      "\n",
      "See the caveats in the documentation: https://pandas.pydata.org/pandas-docs/stable/user_guide/indexing.html#returning-a-view-versus-a-copy\n",
      "  df[['volume']] = df[['volume']].apply(pd.to_numeric)\n"
     ]
    }
   ],
   "source": [
    "df[['volume']] = df[['volume']].apply(pd.to_numeric)"
   ]
  },
  {
   "cell_type": "code",
   "execution_count": 59,
   "id": "dbb50aaa",
   "metadata": {},
   "outputs": [
    {
     "data": {
      "text/html": [
       "<div>\n",
       "<style scoped>\n",
       "    .dataframe tbody tr th:only-of-type {\n",
       "        vertical-align: middle;\n",
       "    }\n",
       "\n",
       "    .dataframe tbody tr th {\n",
       "        vertical-align: top;\n",
       "    }\n",
       "\n",
       "    .dataframe thead th {\n",
       "        text-align: right;\n",
       "    }\n",
       "</style>\n",
       "<table border=\"1\" class=\"dataframe\">\n",
       "  <thead>\n",
       "    <tr style=\"text-align: right;\">\n",
       "      <th></th>\n",
       "      <th>date</th>\n",
       "      <th>open</th>\n",
       "      <th>high</th>\n",
       "      <th>low</th>\n",
       "      <th>close</th>\n",
       "      <th>adj_close</th>\n",
       "      <th>volume</th>\n",
       "    </tr>\n",
       "  </thead>\n",
       "  <tbody>\n",
       "    <tr>\n",
       "      <th>1</th>\n",
       "      <td>2019-09-16</td>\n",
       "      <td>9.65</td>\n",
       "      <td>9.85</td>\n",
       "      <td>9.65</td>\n",
       "      <td>9.85</td>\n",
       "      <td>9.85</td>\n",
       "      <td>1700</td>\n",
       "    </tr>\n",
       "    <tr>\n",
       "      <th>2</th>\n",
       "      <td>2019-09-23</td>\n",
       "      <td>9.85</td>\n",
       "      <td>9.85</td>\n",
       "      <td>9.66</td>\n",
       "      <td>9.66</td>\n",
       "      <td>9.66</td>\n",
       "      <td>25800</td>\n",
       "    </tr>\n",
       "    <tr>\n",
       "      <th>3</th>\n",
       "      <td>2019-09-30</td>\n",
       "      <td>9.685</td>\n",
       "      <td>9.71</td>\n",
       "      <td>9.685</td>\n",
       "      <td>9.71</td>\n",
       "      <td>9.71</td>\n",
       "      <td>800</td>\n",
       "    </tr>\n",
       "    <tr>\n",
       "      <th>4</th>\n",
       "      <td>2019-10-07</td>\n",
       "      <td>9.68</td>\n",
       "      <td>9.7</td>\n",
       "      <td>9.63</td>\n",
       "      <td>9.7</td>\n",
       "      <td>9.70</td>\n",
       "      <td>767400</td>\n",
       "    </tr>\n",
       "    <tr>\n",
       "      <th>5</th>\n",
       "      <td>2019-10-14</td>\n",
       "      <td>9.7</td>\n",
       "      <td>9.75</td>\n",
       "      <td>9.7</td>\n",
       "      <td>9.71</td>\n",
       "      <td>9.71</td>\n",
       "      <td>180000</td>\n",
       "    </tr>\n",
       "    <tr>\n",
       "      <th>...</th>\n",
       "      <td>...</td>\n",
       "      <td>...</td>\n",
       "      <td>...</td>\n",
       "      <td>...</td>\n",
       "      <td>...</td>\n",
       "      <td>...</td>\n",
       "      <td>...</td>\n",
       "    </tr>\n",
       "    <tr>\n",
       "      <th>141</th>\n",
       "      <td>2022-05-23</td>\n",
       "      <td>10.92</td>\n",
       "      <td>13.49</td>\n",
       "      <td>10.21</td>\n",
       "      <td>13.45</td>\n",
       "      <td>13.45</td>\n",
       "      <td>47308000</td>\n",
       "    </tr>\n",
       "    <tr>\n",
       "      <th>142</th>\n",
       "      <td>2022-05-30</td>\n",
       "      <td>13.74</td>\n",
       "      <td>14.965</td>\n",
       "      <td>12.16</td>\n",
       "      <td>14.57</td>\n",
       "      <td>14.57</td>\n",
       "      <td>67589500</td>\n",
       "    </tr>\n",
       "    <tr>\n",
       "      <th>143</th>\n",
       "      <td>2022-06-06</td>\n",
       "      <td>14.92</td>\n",
       "      <td>16.16</td>\n",
       "      <td>14.31</td>\n",
       "      <td>14.39</td>\n",
       "      <td>14.39</td>\n",
       "      <td>55307800</td>\n",
       "    </tr>\n",
       "    <tr>\n",
       "      <th>144</th>\n",
       "      <td>2022-06-13</td>\n",
       "      <td>13.62</td>\n",
       "      <td>14.25</td>\n",
       "      <td>11.85</td>\n",
       "      <td>14.03</td>\n",
       "      <td>14.03</td>\n",
       "      <td>58502800</td>\n",
       "    </tr>\n",
       "    <tr>\n",
       "      <th>145</th>\n",
       "      <td>2022-06-20</td>\n",
       "      <td>14.32</td>\n",
       "      <td>15.07</td>\n",
       "      <td>13.27</td>\n",
       "      <td>14.25</td>\n",
       "      <td>14.25</td>\n",
       "      <td>16564000</td>\n",
       "    </tr>\n",
       "  </tbody>\n",
       "</table>\n",
       "<p>145 rows × 7 columns</p>\n",
       "</div>"
      ],
      "text/plain": [
       "           date   open    high    low  close  adj_close    volume\n",
       "1    2019-09-16   9.65    9.85   9.65   9.85       9.85      1700\n",
       "2    2019-09-23   9.85    9.85   9.66   9.66       9.66     25800\n",
       "3    2019-09-30  9.685    9.71  9.685   9.71       9.71       800\n",
       "4    2019-10-07   9.68     9.7   9.63    9.7       9.70    767400\n",
       "5    2019-10-14    9.7    9.75    9.7   9.71       9.71    180000\n",
       "..          ...    ...     ...    ...    ...        ...       ...\n",
       "141  2022-05-23  10.92   13.49  10.21  13.45      13.45  47308000\n",
       "142  2022-05-30  13.74  14.965  12.16  14.57      14.57  67589500\n",
       "143  2022-06-06  14.92   16.16  14.31  14.39      14.39  55307800\n",
       "144  2022-06-13  13.62   14.25  11.85  14.03      14.03  58502800\n",
       "145  2022-06-20  14.32   15.07  13.27  14.25      14.25  16564000\n",
       "\n",
       "[145 rows x 7 columns]"
      ]
     },
     "execution_count": 59,
     "metadata": {},
     "output_type": "execute_result"
    }
   ],
   "source": [
    "df"
   ]
  },
  {
   "cell_type": "code",
   "execution_count": 60,
   "id": "4acbbcfa",
   "metadata": {},
   "outputs": [],
   "source": [
    "rate_of_return = (df.adj_close - df.adj_close.shift(1)) / df.adj_close.shift(1)"
   ]
  },
  {
   "cell_type": "code",
   "execution_count": 61,
   "id": "fc64b8eb",
   "metadata": {},
   "outputs": [
    {
     "data": {
      "text/plain": [
       "pandas.core.series.Series"
      ]
     },
     "execution_count": 61,
     "metadata": {},
     "output_type": "execute_result"
    }
   ],
   "source": [
    "type(rate_of_return)"
   ]
  },
  {
   "cell_type": "code",
   "execution_count": 62,
   "id": "fe4008fc",
   "metadata": {},
   "outputs": [],
   "source": [
    "rate_of_return.name = 'weekly_returns'"
   ]
  },
  {
   "cell_type": "code",
   "execution_count": 63,
   "id": "582c6fe7",
   "metadata": {},
   "outputs": [
    {
     "data": {
      "text/plain": [
       "pandas.core.frame.DataFrame"
      ]
     },
     "execution_count": 63,
     "metadata": {},
     "output_type": "execute_result"
    }
   ],
   "source": [
    "type(df)"
   ]
  },
  {
   "cell_type": "code",
   "execution_count": 64,
   "id": "0d408c9f",
   "metadata": {},
   "outputs": [],
   "source": [
    "# clean_df = df.merge(rate_of_return, left_index=True, right_index=True)\n",
    "# clean_df"
   ]
  },
  {
   "cell_type": "code",
   "execution_count": 65,
   "id": "e959a3d0",
   "metadata": {},
   "outputs": [
    {
     "name": "stderr",
     "output_type": "stream",
     "text": [
      "/var/folders/ly/b0d5ymx54rd755r8d506sd000000gn/T/ipykernel_60253/1146535195.py:1: SettingWithCopyWarning: \n",
      "A value is trying to be set on a copy of a slice from a DataFrame.\n",
      "Try using .loc[row_indexer,col_indexer] = value instead\n",
      "\n",
      "See the caveats in the documentation: https://pandas.pydata.org/pandas-docs/stable/user_guide/indexing.html#returning-a-view-versus-a-copy\n",
      "  df['weekly_returns'] = rate_of_return\n"
     ]
    },
    {
     "data": {
      "text/html": [
       "<div>\n",
       "<style scoped>\n",
       "    .dataframe tbody tr th:only-of-type {\n",
       "        vertical-align: middle;\n",
       "    }\n",
       "\n",
       "    .dataframe tbody tr th {\n",
       "        vertical-align: top;\n",
       "    }\n",
       "\n",
       "    .dataframe thead th {\n",
       "        text-align: right;\n",
       "    }\n",
       "</style>\n",
       "<table border=\"1\" class=\"dataframe\">\n",
       "  <thead>\n",
       "    <tr style=\"text-align: right;\">\n",
       "      <th></th>\n",
       "      <th>date</th>\n",
       "      <th>open</th>\n",
       "      <th>high</th>\n",
       "      <th>low</th>\n",
       "      <th>close</th>\n",
       "      <th>adj_close</th>\n",
       "      <th>volume</th>\n",
       "      <th>weekly_returns</th>\n",
       "    </tr>\n",
       "  </thead>\n",
       "  <tbody>\n",
       "    <tr>\n",
       "      <th>1</th>\n",
       "      <td>2019-09-16</td>\n",
       "      <td>9.65</td>\n",
       "      <td>9.85</td>\n",
       "      <td>9.65</td>\n",
       "      <td>9.85</td>\n",
       "      <td>9.85</td>\n",
       "      <td>1700</td>\n",
       "      <td>NaN</td>\n",
       "    </tr>\n",
       "    <tr>\n",
       "      <th>2</th>\n",
       "      <td>2019-09-23</td>\n",
       "      <td>9.85</td>\n",
       "      <td>9.85</td>\n",
       "      <td>9.66</td>\n",
       "      <td>9.66</td>\n",
       "      <td>9.66</td>\n",
       "      <td>25800</td>\n",
       "      <td>-0.019289</td>\n",
       "    </tr>\n",
       "    <tr>\n",
       "      <th>3</th>\n",
       "      <td>2019-09-30</td>\n",
       "      <td>9.685</td>\n",
       "      <td>9.71</td>\n",
       "      <td>9.685</td>\n",
       "      <td>9.71</td>\n",
       "      <td>9.71</td>\n",
       "      <td>800</td>\n",
       "      <td>0.005176</td>\n",
       "    </tr>\n",
       "    <tr>\n",
       "      <th>4</th>\n",
       "      <td>2019-10-07</td>\n",
       "      <td>9.68</td>\n",
       "      <td>9.7</td>\n",
       "      <td>9.63</td>\n",
       "      <td>9.7</td>\n",
       "      <td>9.70</td>\n",
       "      <td>767400</td>\n",
       "      <td>-0.001030</td>\n",
       "    </tr>\n",
       "    <tr>\n",
       "      <th>5</th>\n",
       "      <td>2019-10-14</td>\n",
       "      <td>9.7</td>\n",
       "      <td>9.75</td>\n",
       "      <td>9.7</td>\n",
       "      <td>9.71</td>\n",
       "      <td>9.71</td>\n",
       "      <td>180000</td>\n",
       "      <td>0.001031</td>\n",
       "    </tr>\n",
       "    <tr>\n",
       "      <th>...</th>\n",
       "      <td>...</td>\n",
       "      <td>...</td>\n",
       "      <td>...</td>\n",
       "      <td>...</td>\n",
       "      <td>...</td>\n",
       "      <td>...</td>\n",
       "      <td>...</td>\n",
       "      <td>...</td>\n",
       "    </tr>\n",
       "    <tr>\n",
       "      <th>141</th>\n",
       "      <td>2022-05-23</td>\n",
       "      <td>10.92</td>\n",
       "      <td>13.49</td>\n",
       "      <td>10.21</td>\n",
       "      <td>13.45</td>\n",
       "      <td>13.45</td>\n",
       "      <td>47308000</td>\n",
       "      <td>0.220508</td>\n",
       "    </tr>\n",
       "    <tr>\n",
       "      <th>142</th>\n",
       "      <td>2022-05-30</td>\n",
       "      <td>13.74</td>\n",
       "      <td>14.965</td>\n",
       "      <td>12.16</td>\n",
       "      <td>14.57</td>\n",
       "      <td>14.57</td>\n",
       "      <td>67589500</td>\n",
       "      <td>0.083271</td>\n",
       "    </tr>\n",
       "    <tr>\n",
       "      <th>143</th>\n",
       "      <td>2022-06-06</td>\n",
       "      <td>14.92</td>\n",
       "      <td>16.16</td>\n",
       "      <td>14.31</td>\n",
       "      <td>14.39</td>\n",
       "      <td>14.39</td>\n",
       "      <td>55307800</td>\n",
       "      <td>-0.012354</td>\n",
       "    </tr>\n",
       "    <tr>\n",
       "      <th>144</th>\n",
       "      <td>2022-06-13</td>\n",
       "      <td>13.62</td>\n",
       "      <td>14.25</td>\n",
       "      <td>11.85</td>\n",
       "      <td>14.03</td>\n",
       "      <td>14.03</td>\n",
       "      <td>58502800</td>\n",
       "      <td>-0.025017</td>\n",
       "    </tr>\n",
       "    <tr>\n",
       "      <th>145</th>\n",
       "      <td>2022-06-20</td>\n",
       "      <td>14.32</td>\n",
       "      <td>15.07</td>\n",
       "      <td>13.27</td>\n",
       "      <td>14.25</td>\n",
       "      <td>14.25</td>\n",
       "      <td>16564000</td>\n",
       "      <td>0.015681</td>\n",
       "    </tr>\n",
       "  </tbody>\n",
       "</table>\n",
       "<p>145 rows × 8 columns</p>\n",
       "</div>"
      ],
      "text/plain": [
       "           date   open    high    low  close  adj_close    volume  \\\n",
       "1    2019-09-16   9.65    9.85   9.65   9.85       9.85      1700   \n",
       "2    2019-09-23   9.85    9.85   9.66   9.66       9.66     25800   \n",
       "3    2019-09-30  9.685    9.71  9.685   9.71       9.71       800   \n",
       "4    2019-10-07   9.68     9.7   9.63    9.7       9.70    767400   \n",
       "5    2019-10-14    9.7    9.75    9.7   9.71       9.71    180000   \n",
       "..          ...    ...     ...    ...    ...        ...       ...   \n",
       "141  2022-05-23  10.92   13.49  10.21  13.45      13.45  47308000   \n",
       "142  2022-05-30  13.74  14.965  12.16  14.57      14.57  67589500   \n",
       "143  2022-06-06  14.92   16.16  14.31  14.39      14.39  55307800   \n",
       "144  2022-06-13  13.62   14.25  11.85  14.03      14.03  58502800   \n",
       "145  2022-06-20  14.32   15.07  13.27  14.25      14.25  16564000   \n",
       "\n",
       "     weekly_returns  \n",
       "1               NaN  \n",
       "2         -0.019289  \n",
       "3          0.005176  \n",
       "4         -0.001030  \n",
       "5          0.001031  \n",
       "..              ...  \n",
       "141        0.220508  \n",
       "142        0.083271  \n",
       "143       -0.012354  \n",
       "144       -0.025017  \n",
       "145        0.015681  \n",
       "\n",
       "[145 rows x 8 columns]"
      ]
     },
     "execution_count": 65,
     "metadata": {},
     "output_type": "execute_result"
    }
   ],
   "source": [
    "df['weekly_returns'] = rate_of_return\n",
    "df"
   ]
  },
  {
   "cell_type": "code",
   "execution_count": 66,
   "id": "33104ec7",
   "metadata": {},
   "outputs": [
    {
     "data": {
      "text/plain": [
       "count    144.000000\n",
       "mean       0.007750\n",
       "std        0.108604\n",
       "min       -0.194575\n",
       "25%       -0.039568\n",
       "50%        0.000000\n",
       "75%        0.022016\n",
       "max        0.580665\n",
       "Name: weekly_returns, dtype: float64"
      ]
     },
     "execution_count": 66,
     "metadata": {},
     "output_type": "execute_result"
    }
   ],
   "source": [
    "df['weekly_returns'].describe()"
   ]
  },
  {
   "cell_type": "code",
   "execution_count": 67,
   "id": "8ca0632d",
   "metadata": {},
   "outputs": [],
   "source": [
    "average = df['weekly_returns'].mean() * 100\n",
    "std_dev = df['weekly_returns'].std() * 100"
   ]
  },
  {
   "cell_type": "code",
   "execution_count": 68,
   "id": "7a42fa13",
   "metadata": {},
   "outputs": [
    {
     "data": {
      "text/plain": [
       "0.7750401134328276"
      ]
     },
     "execution_count": 68,
     "metadata": {},
     "output_type": "execute_result"
    }
   ],
   "source": [
    "average"
   ]
  },
  {
   "cell_type": "code",
   "execution_count": 69,
   "id": "475d0782",
   "metadata": {},
   "outputs": [
    {
     "data": {
      "text/plain": [
       "10.860399712064178"
      ]
     },
     "execution_count": 69,
     "metadata": {},
     "output_type": "execute_result"
    }
   ],
   "source": [
    "std_dev"
   ]
  },
  {
   "cell_type": "code",
   "execution_count": 74,
   "id": "fb558d67",
   "metadata": {},
   "outputs": [
    {
     "data": {
      "text/plain": [
       "array([[<AxesSubplot:title={'center':'weekly_returns'}>]], dtype=object)"
      ]
     },
     "execution_count": 74,
     "metadata": {},
     "output_type": "execute_result"
    },
    {
     "data": {
      "image/png": "[encoded data removed]",
      "text/plain": [
       "<Figure size 432x288 with 1 Axes>"
      ]
     },
     "metadata": {
      "needs_background": "light"
     },
     "output_type": "display_data"
    }
   ],
   "source": [
    "df.hist(column='weekly_returns', bins=20)"
   ]
  },
  {
   "cell_type": "code",
   "execution_count": 77,
   "id": "6210f550",
   "metadata": {},
   "outputs": [
    {
     "name": "stderr",
     "output_type": "stream",
     "text": [
      "/var/folders/ly/b0d5ymx54rd755r8d506sd000000gn/T/ipykernel_60253/1676081427.py:1: SettingWithCopyWarning: \n",
      "A value is trying to be set on a copy of a slice from a DataFrame.\n",
      "Try using .loc[row_indexer,col_indexer] = value instead\n",
      "\n",
      "See the caveats in the documentation: https://pandas.pydata.org/pandas-docs/stable/user_guide/indexing.html#returning-a-view-versus-a-copy\n",
      "  df['date'] = pd.to_datetime(df.date)\n"
     ]
    },
    {
     "data": {
      "text/plain": [
       "<AxesSubplot:xlabel='date'>"
      ]
     },
     "execution_count": 77,
     "metadata": {},
     "output_type": "execute_result"
    },
    {
     "data": {
      "image/png": "[encoded data removed]",
      "text/plain": [
       "<Figure size 1440x1440 with 1 Axes>"
      ]
     },
     "metadata": {
      "needs_background": "light"
     },
     "output_type": "display_data"
    }
   ],
   "source": [
    "df['date'] = pd.to_datetime(df.date)\n",
    "df.plot(x='date', y='volume', figsize=(20,20), grid=True)"
   ]
  },
  {
   "cell_type": "code",
   "execution_count": 78,
   "id": "4983fb42",
   "metadata": {},
   "outputs": [
    {
     "data": {
      "text/plain": [
       "count    1.450000e+02\n",
       "mean     2.359475e+07\n",
       "std      2.240753e+07\n",
       "min      0.000000e+00\n",
       "25%      5.746000e+05\n",
       "50%      2.058920e+07\n",
       "75%      4.105950e+07\n",
       "max      9.368880e+07\n",
       "Name: volume, dtype: float64"
      ]
     },
     "execution_count": 78,
     "metadata": {},
     "output_type": "execute_result"
    }
   ],
   "source": [
    "df['volume'].describe()"
   ]
  },
  {
   "cell_type": "code",
   "execution_count": 80,
   "id": "2aba718e",
   "metadata": {},
   "outputs": [
    {
     "data": {
      "text/plain": [
       "array([[<AxesSubplot:title={'center':'volume'}>]], dtype=object)"
      ]
     },
     "execution_count": 80,
     "metadata": {},
     "output_type": "execute_result"
    },
    {
     "data": {
      "image/png": "[encoded data removed]",
      "text/plain": [
       "<Figure size 432x288 with 1 Axes>"
      ]
     },
     "metadata": {
      "needs_background": "light"
     },
     "output_type": "display_data"
    }
   ],
   "source": [
    "df.hist(column='volume', bins=15)"
   ]
  },
  {
   "cell_type": "code",
   "execution_count": null,
   "id": "2b611b2f",
   "metadata": {},
   "outputs": [],
   "source": []
  }
 ],
 "metadata": {
  "kernelspec": {
   "display_name": "Python 3 (ipykernel)",
   "language": "python",
   "name": "python3"
  },
  "language_info": {
   "codemirror_mode": {
    "name": "ipython",
    "version": 3
   },
   "file_extension": ".py",
   "mimetype": "text/x-python",
   "name": "python",
   "nbconvert_exporter": "python",
   "pygments_lexer": "ipython3",
   "version": "3.9.12"
  }
 },
 "nbformat": 4,
 "nbformat_minor": 5
}
